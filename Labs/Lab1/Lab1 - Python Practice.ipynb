{
 "cells": [
  {
   "cell_type": "markdown",
   "metadata": {},
   "source": [
    "# Exercises with Python"
   ]
  },
  {
   "cell_type": "code",
   "execution_count": 9,
   "metadata": {},
   "outputs": [],
   "source": [
    "import numpy as np\n",
    "import matplotlib.pyplot as plt\n",
    "import pandas as pd\n",
    "from random import randint"
   ]
  },
  {
   "cell_type": "markdown",
   "metadata": {},
   "source": [
    "## Exercise 1 - Numpy\n",
    "#### Creat an array of 450 random integers between -10 and 10"
   ]
  },
  {
   "cell_type": "code",
   "execution_count": 12,
   "metadata": {},
   "outputs": [
    {
     "data": {
      "text/plain": [
       "array([ -1,  -8,  -5,  -4,  -1,   1,   1,   5,  -6,   0,   8,  -8,   6,\n",
       "         5,  -2,  -7,  -9,  -5,   4,  -1,   1,  -2,   4,  -5,   2,  10,\n",
       "         7,  -3,  -7,  -9,  -8,   1,  -6,   7,   2,  -9,   4,   4,  -3,\n",
       "         7,   4,   6, -10,  -9,   3,   2,   2,   5,  -2,   2,  -2,  -7,\n",
       "         6,   5,  -7,   6,  -1,   3,  -5,  10,  -4,   9,  -8,  -4,   6,\n",
       "        -5,   9,  -3,  -5,   0,  -1,  -9,   9, -10,  -5,   4,  -5,   5,\n",
       "        -3,  -6,  -2,   9,  -2,  -7,  -9,  -5, -10,   3,  -1,   6,  -8,\n",
       "         1,  -8,  -7,  10,  -9,  -5,   3,  -7,   3,  -3,   3,   6,   8,\n",
       "        -5,   1,  -3,   5,   6,   9,   0,   6, -10,   0,  10,   4,   5,\n",
       "         2,  -1,   7,   0,   8,   7,   9,  -6,  -8,   1,  -4,  -6,  -2,\n",
       "         4,  -2,  -7,  -1,   7,  10,   8,  -3,   3,  -7,  -8,   4,   8,\n",
       "         0,  -8,   4,   2,  -9,  -3,   8,   2, -10,  -2,  10,  10,   6,\n",
       "         3,   5,   6,  -5,  -7,   1,   5,   8,   6, -10,   3,  -9,  -6,\n",
       "         1,  -1,  -3,  10,  -8,   0,  -6,   0,  -5,   8,  -2,   7,   5,\n",
       "        -2,   5,   5,   7,  -4,   8,   7,   5,  -1,  -4,  -3,  -7,   9,\n",
       "         1,  -4,   4,  -5,   4,  -1,  -3,  -7,   6, -10,  -6,  -3,   2,\n",
       "         3,  -6,   6,   7,   5,  -8,  -1,   2,   8,  -5,   8,   5,  -2,\n",
       "        -3,  -3,   6,   6, -10,  -1,  -4,   9,  10,   3,   7,  -2,  -9,\n",
       "         6,  -8,   8,   7,   4,   3,  -3,   9,  -2,  10,  -7,   2,   5,\n",
       "        -4,   4,   9,   3,   2,   7,   6,   2,   3,   5,   9,   3,  -8,\n",
       "        10,  -3, -10,  -7,   4,   1,   2,   7,   6,  -8,   2,   8,  -9,\n",
       "        -2,  -9,   6,  -1,   4,   0,   2,   7,  -3,   6,  -3,  -2,   5,\n",
       "         5,  -1,   1,   1,  -7,  -5,  -8,   7,  -4,  -7, -10,  -6,  -7,\n",
       "       -10,  -4,  -5,   1,   5,   6,   2,  -1,  -1,  -4,   8,   9,  10,\n",
       "         4,   3, -10,   2,  -1,  -4,   4,   5,   9,  -9,  -2, -10,   5,\n",
       "        -7,  -7, -10,  -2,  -3,  -4,  -8,   6,  -7,   9,  -9,   9,   7,\n",
       "        -7,  -6,   8,   7,   0,  -2,  -9,  -3,  -7,  10,   9,  -4,  -7,\n",
       "         3,   9,  10,   1,   4,   7,   2,  -9, -10,  -6,   4,   7,  -8,\n",
       "         3,   6,   2,  -5,  -7,   2,   9,  -1,  -6,  -8,  -8,  -7,  -2,\n",
       "         4,  -7,  -6,  -2,  -4,  -5,   3,   5,   9,  10,   9,   1,   0,\n",
       "         5,  -6,   4,  -5,   3,   0,   2,   0,  -1,   1,   0,   8,   7,\n",
       "        -7,   7,  10,  -1,  -8,   5,  -5,  -9,  -7, -10,   3,  -8,  10,\n",
       "        -4,   1,  -2,   9,  -2,   4,  -9,  -6,  -8,  -6,   8,  -3,   0,\n",
       "       -10,  10,   7,   8,  -8,  -2,  -8,   6,  -9,   9,   0, -10,   4,\n",
       "        -9,  -8,   8,   5,   5,  -2,   9,  -2])"
      ]
     },
     "execution_count": 12,
     "metadata": {},
     "output_type": "execute_result"
    }
   ],
   "source": [
    "# Your code: \n",
    "\n",
    "temp = []\n",
    "\n",
    "for i in range(450):\n",
    "    temp.append(randint(-10, 10))\n",
    "\n",
    "array = np.array(temp)\n",
    "array"
   ]
  },
  {
   "cell_type": "markdown",
   "metadata": {},
   "source": [
    "#### Resize the above array as a 5x70 matrix. \n",
    "#### Is there a problem? \n",
    "\n",
    "#### If there is, correct it to a suitable shape.\n",
    "\n",
    "We check what dimension our array has:"
   ]
  },
  {
   "cell_type": "code",
   "execution_count": 15,
   "metadata": {},
   "outputs": [
    {
     "name": "stdout",
     "output_type": "stream",
     "text": [
      "(450,)\n"
     ]
    },
    {
     "ename": "ValueError",
     "evalue": "cannot reshape array of size 450 into shape (5,70)",
     "output_type": "error",
     "traceback": [
      "\u001b[1;31m---------------------------------------------------------------------------\u001b[0m",
      "\u001b[1;31mValueError\u001b[0m                                Traceback (most recent call last)",
      "Cell \u001b[1;32mIn[15], line 5\u001b[0m\n\u001b[0;32m      1\u001b[0m \u001b[38;5;66;03m# Your code:\u001b[39;00m\n\u001b[0;32m      3\u001b[0m \u001b[38;5;28mprint\u001b[39m(array\u001b[38;5;241m.\u001b[39mshape)\n\u001b[1;32m----> 5\u001b[0m new_matrix \u001b[38;5;241m=\u001b[39m array\u001b[38;5;241m.\u001b[39mreshape((\u001b[38;5;241m5\u001b[39m, \u001b[38;5;241m70\u001b[39m))\n",
      "\u001b[1;31mValueError\u001b[0m: cannot reshape array of size 450 into shape (5,70)"
     ]
    }
   ],
   "source": [
    "# Your code:\n",
    "\n",
    "print(array.shape)\n",
    "\n",
    "new_matrix = array.reshape((5, 70))\n",
    "\n",
    "\n",
    "# Is there a problem? why?\n",
    "#Please add your idea\n",
    "\n",
    "# there are too many numbers in the array to reshape it to a 5x70, as that matrix would have 350 numbers and we have 450\n",
    "# to fix this I cut the last 100 numbers in the array so it can be reshaped to 5x70 correctly"
   ]
  },
  {
   "cell_type": "code",
   "execution_count": 17,
   "metadata": {},
   "outputs": [
    {
     "data": {
      "text/plain": [
       "(450,)"
      ]
     },
     "execution_count": 17,
     "metadata": {},
     "output_type": "execute_result"
    }
   ],
   "source": [
    "array.shape"
   ]
  },
  {
   "cell_type": "markdown",
   "metadata": {},
   "source": [
    "We resize:"
   ]
  },
  {
   "cell_type": "code",
   "execution_count": 36,
   "metadata": {},
   "outputs": [
    {
     "data": {
      "text/plain": [
       "array([[ -1,  -8,  -5,  -4,  -1,   1,   1,   5,  -6,   0,   8,  -8,   6,\n",
       "          5,  -2,  -7,  -9,  -5,   4,  -1,   1,  -2,   4,  -5,   2,  10,\n",
       "          7,  -3,  -7,  -9,  -8,   1,  -6,   7,   2,  -9,   4,   4,  -3,\n",
       "          7,   4,   6, -10,  -9,   3,   2,   2,   5,  -2,   2,  -2,  -7,\n",
       "          6,   5,  -7,   6,  -1,   3,  -5,  10,  -4,   9,  -8,  -4,   6,\n",
       "         -5,   9,  -3,  -5,   0],\n",
       "       [ -1,  -9,   9, -10,  -5,   4,  -5,   5,  -3,  -6,  -2,   9,  -2,\n",
       "         -7,  -9,  -5, -10,   3,  -1,   6,  -8,   1,  -8,  -7,  10,  -9,\n",
       "         -5,   3,  -7,   3,  -3,   3,   6,   8,  -5,   1,  -3,   5,   6,\n",
       "          9,   0,   6, -10,   0,  10,   4,   5,   2,  -1,   7,   0,   8,\n",
       "          7,   9,  -6,  -8,   1,  -4,  -6,  -2,   4,  -2,  -7,  -1,   7,\n",
       "         10,   8,  -3,   3,  -7],\n",
       "       [ -8,   4,   8,   0,  -8,   4,   2,  -9,  -3,   8,   2, -10,  -2,\n",
       "         10,  10,   6,   3,   5,   6,  -5,  -7,   1,   5,   8,   6, -10,\n",
       "          3,  -9,  -6,   1,  -1,  -3,  10,  -8,   0,  -6,   0,  -5,   8,\n",
       "         -2,   7,   5,  -2,   5,   5,   7,  -4,   8,   7,   5,  -1,  -4,\n",
       "         -3,  -7,   9,   1,  -4,   4,  -5,   4,  -1,  -3,  -7,   6, -10,\n",
       "         -6,  -3,   2,   3,  -6],\n",
       "       [  6,   7,   5,  -8,  -1,   2,   8,  -5,   8,   5,  -2,  -3,  -3,\n",
       "          6,   6, -10,  -1,  -4,   9,  10,   3,   7,  -2,  -9,   6,  -8,\n",
       "          8,   7,   4,   3,  -3,   9,  -2,  10,  -7,   2,   5,  -4,   4,\n",
       "          9,   3,   2,   7,   6,   2,   3,   5,   9,   3,  -8,  10,  -3,\n",
       "        -10,  -7,   4,   1,   2,   7,   6,  -8,   2,   8,  -9,  -2,  -9,\n",
       "          6,  -1,   4,   0,   2],\n",
       "       [  7,  -3,   6,  -3,  -2,   5,   5,  -1,   1,   1,  -7,  -5,  -8,\n",
       "          7,  -4,  -7, -10,  -6,  -7, -10,  -4,  -5,   1,   5,   6,   2,\n",
       "         -1,  -1,  -4,   8,   9,  10,   4,   3, -10,   2,  -1,  -4,   4,\n",
       "          5,   9,  -9,  -2, -10,   5,  -7,  -7, -10,  -2,  -3,  -4,  -8,\n",
       "          6,  -7,   9,  -9,   9,   7,  -7,  -6,   8,   7,   0,  -2,  -9,\n",
       "         -3,  -7,  10,   9,  -4]])"
      ]
     },
     "execution_count": 36,
     "metadata": {},
     "output_type": "execute_result"
    }
   ],
   "source": [
    "corrected_matrix = np.resize(array, 350).reshape((5, 70))\n",
    "corrected_matrix\n"
   ]
  },
  {
   "cell_type": "markdown",
   "metadata": {},
   "source": [
    "#### Choose values greater than 0 from your corrected_matrix."
   ]
  },
  {
   "cell_type": "code",
   "execution_count": 39,
   "metadata": {},
   "outputs": [
    {
     "data": {
      "text/plain": [
       "array([ -1,  -8,  -5,  -4,  -1,   1,   1,   5,  -6,   8,  -8,   6,   5,\n",
       "        -2,  -7,  -9,  -5,   4,  -1,   1,  -2,   4,  -5,   2,  10,   7,\n",
       "        -3,  -7,  -9,  -8,   1,  -6,   7,   2,  -9,   4,   4,  -3,   7,\n",
       "         4,   6, -10,  -9,   3,   2,   2,   5,  -2,   2,  -2,  -7,   6,\n",
       "         5,  -7,   6,  -1,   3,  -5,  10,  -4,   9,  -8,  -4,   6,  -5,\n",
       "         9,  -3,  -5,  -1,  -9,   9, -10,  -5,   4,  -5,   5,  -3,  -6,\n",
       "        -2,   9,  -2,  -7,  -9,  -5, -10,   3,  -1,   6,  -8,   1,  -8,\n",
       "        -7,  10,  -9,  -5,   3,  -7,   3,  -3,   3,   6,   8,  -5,   1,\n",
       "        -3,   5,   6,   9,   6, -10,  10,   4,   5,   2,  -1,   7,   8,\n",
       "         7,   9,  -6,  -8,   1,  -4,  -6,  -2,   4,  -2,  -7,  -1,   7,\n",
       "        10,   8,  -3,   3,  -7,  -8,   4,   8,  -8,   4,   2,  -9,  -3,\n",
       "         8,   2, -10,  -2,  10,  10,   6,   3,   5,   6,  -5,  -7,   1,\n",
       "         5,   8,   6, -10,   3,  -9,  -6,   1,  -1,  -3,  10,  -8,  -6,\n",
       "        -5,   8,  -2,   7,   5,  -2,   5,   5,   7,  -4,   8,   7,   5,\n",
       "        -1,  -4,  -3,  -7,   9,   1,  -4,   4,  -5,   4,  -1,  -3,  -7,\n",
       "         6, -10,  -6,  -3,   2,   3,  -6,   6,   7,   5,  -8,  -1,   2,\n",
       "         8,  -5,   8,   5,  -2,  -3,  -3,   6,   6, -10,  -1,  -4,   9,\n",
       "        10,   3,   7,  -2,  -9,   6,  -8,   8,   7,   4,   3,  -3,   9,\n",
       "        -2,  10,  -7,   2,   5,  -4,   4,   9,   3,   2,   7,   6,   2,\n",
       "         3,   5,   9,   3,  -8,  10,  -3, -10,  -7,   4,   1,   2,   7,\n",
       "         6,  -8,   2,   8,  -9,  -2,  -9,   6,  -1,   4,   2,   7,  -3,\n",
       "         6,  -3,  -2,   5,   5,  -1,   1,   1,  -7,  -5,  -8,   7,  -4,\n",
       "        -7, -10,  -6,  -7, -10,  -4,  -5,   1,   5,   6,   2,  -1,  -1,\n",
       "        -4,   8,   9,  10,   4,   3, -10,   2,  -1,  -4,   4,   5,   9,\n",
       "        -9,  -2, -10,   5,  -7,  -7, -10,  -2,  -3,  -4,  -8,   6,  -7,\n",
       "         9,  -9,   9,   7,  -7,  -6,   8,   7,  -2,  -9,  -3,  -7,  10,\n",
       "         9,  -4])"
      ]
     },
     "execution_count": 39,
     "metadata": {},
     "output_type": "execute_result"
    }
   ],
   "source": [
    "no_zeros_array = corrected_matrix[corrected_matrix != 0]\n",
    "no_zeros_array"
   ]
  },
  {
   "cell_type": "code",
   "execution_count": 41,
   "metadata": {},
   "outputs": [
    {
     "data": {
      "text/plain": [
       "array([5, 6, 7, 9])"
      ]
     },
     "execution_count": 41,
     "metadata": {},
     "output_type": "execute_result"
    }
   ],
   "source": [
    "#### Given this array x = np.array ([- 5,6, -7,9]), create another array in absolute value \n",
    "\n",
    "# your code:\n",
    "np.absolute(np.array([-5, 6, -7, 9]))"
   ]
  },
  {
   "cell_type": "markdown",
   "metadata": {},
   "source": [
    "#### Given this array x = np.array ([- 5,6, -7,9]), transform it into a 2x2 matrix and calculate the maximum and minimum of each row and column. "
   ]
  },
  {
   "cell_type": "code",
   "execution_count": 44,
   "metadata": {},
   "outputs": [
    {
     "name": "stdout",
     "output_type": "stream",
     "text": [
      "[[-5  6]\n",
      " [-7  9]]\n",
      "Max verticles [-5  9]\n",
      "Max horizontals [6 9]\n"
     ]
    }
   ],
   "source": [
    "# your code:\n",
    "x = np.array ([- 5,6, -7,9])\n",
    "x_reshaped = x.reshape((2,2))\n",
    "\n",
    "print(x_reshaped)\n",
    "\n",
    "print(\"Max verticles\", x_reshaped.max(0))\n",
    "print(\"Max horizontals\", x_reshaped.max(1))"
   ]
  },
  {
   "cell_type": "markdown",
   "metadata": {},
   "source": [
    "#### Create a matrix of ones with 3x3 range as a_ones, and modify the the a_ones[1][0] = 3  "
   ]
  },
  {
   "cell_type": "code",
   "execution_count": 47,
   "metadata": {},
   "outputs": [
    {
     "data": {
      "text/plain": [
       "array([[1., 1., 1.],\n",
       "       [3., 1., 1.],\n",
       "       [1., 1., 1.]])"
      ]
     },
     "execution_count": 47,
     "metadata": {},
     "output_type": "execute_result"
    }
   ],
   "source": [
    "# your code:\n",
    "\n",
    "a_ones = np.ones(9).reshape((3,3))\n",
    "\n",
    "a_ones[1][0] = 3\n",
    "\n",
    "a_ones\n"
   ]
  },
  {
   "cell_type": "markdown",
   "metadata": {},
   "source": [
    "#### Compute dot product for a_ones and x_reshaped"
   ]
  },
  {
   "cell_type": "code",
   "execution_count": 244,
   "metadata": {},
   "outputs": [
    {
     "name": "stdout",
     "output_type": "stream",
     "text": [
      "reszied ones matrix\n",
      " [[1. 1. 1.]\n",
      " [3. 1. 1.]]\n",
      "x reshaped matrix\n",
      " [[-5  6]\n",
      " [-7  9]]\n",
      "dot product\n",
      " [[13.  1.  1.]\n",
      " [20.  2.  2.]]\n"
     ]
    }
   ],
   "source": [
    "print('reszied ones matrix\\n', np.resize(a_ones, (2, 3)))\n",
    "print('x reshaped matrix\\n', x_reshaped)\n",
    "dot_product = np.dot(x_reshaped, np.resize(a_ones, (2, 3)))\n",
    "print('dot product\\n',dot_product)\n",
    "\n",
    "\n",
    "# List the mathematical calculation steps\n",
    "\n",
    "# The two arrays are not compatible, so I chose to resize a_ones to 3 rows and 2 cols so we can do the dot product\n",
    "# -5 * 1 + 6 * 3 = 13\n",
    "# -5 * 1 + 6 * 1 = 1\n",
    "# -5 * 1 + 6 * 1 = 1\n",
    "# -7 * 1 + 9 * 3 = 20\n",
    "# -7 * 1 + 9 * 1 = 2\n",
    "# -7 * 1 + 9 * 1 = 2"
   ]
  },
  {
   "cell_type": "markdown",
   "metadata": {},
   "source": [
    "## Exercise 2 - Plot Practice"
   ]
  },
  {
   "cell_type": "markdown",
   "metadata": {},
   "source": [
    "#### Undergraduate student Instructions (CS457)\n",
    "\n",
    "- Let's think if we have this function: f (t) defined by: f (t) = 2t / (1 + t ^ 2) ^ 2 with t> 0.\n",
    "- Where t could be generated by np.linspace(0,10,100)\n",
    "- Provide plot results"
   ]
  },
  {
   "cell_type": "code",
   "execution_count": 120,
   "metadata": {},
   "outputs": [
    {
     "name": "stdout",
     "output_type": "stream",
     "text": [
      "[0.         0.19796001 0.37297531 0.508403   0.59718608 0.64124611\n",
      " 0.64835433 0.62855005 0.59148253 0.54503389 0.49495    0.44504136\n",
      " 0.3976035  0.35385381 0.3142964  0.27899403 0.24775618 0.22026228\n",
      " 0.19613839 0.17500276 0.15649103 0.14026885 0.1260368  0.113531\n",
      " 0.10252131 0.09280833 0.08422011 0.07660865 0.06984681 0.06382534\n",
      " 0.05845034 0.05364104 0.04932784 0.04545072 0.04195778 0.03880408\n",
      " 0.03595061 0.03336347 0.03101307 0.02887361 0.02692248 0.02513985\n",
      " 0.02350828 0.02201241 0.02063869 0.0193751  0.01821102 0.01713699\n",
      " 0.0161446  0.01522635 0.01437553 0.01358616 0.01285285 0.01217078\n",
      " 0.01153559 0.01094338 0.01039061 0.00987407 0.00939089 0.00893844\n",
      " 0.00851433 0.00811641 0.00774269 0.00739138 0.00706084 0.00674958\n",
      " 0.0064562  0.00617947 0.00591821 0.00567138 0.005438   0.00521717\n",
      " 0.00500806 0.00480991 0.00462202 0.00444373 0.00427445 0.0041136\n",
      " 0.00396069 0.00381522 0.00367676 0.00354488 0.0034192  0.00329937\n",
      " 0.00318505 0.00307592 0.0029717  0.00287212 0.00277692 0.00268586\n",
      " 0.00259873 0.00251531 0.00243541 0.00235884 0.00228544 0.00221505\n",
      " 0.0021475  0.00208266 0.0020204  0.00196059]\n"
     ]
    }
   ],
   "source": [
    "def f(array):\n",
    "    for i in range(len(array)):\n",
    "        t = array[i]\n",
    "        if(t > 0.0):\n",
    "            temp = (2.0 * t / (1 + t ** 2) ** 2)\n",
    "        else:\n",
    "            temp = 0\n",
    "        \n",
    "        array[i] = temp \n",
    "\n",
    "    return array\n",
    "\n",
    "result = f(np.linspace(0, 10, 100))\n",
    "print(result)"
   ]
  },
  {
   "cell_type": "code",
   "execution_count": 236,
   "metadata": {},
   "outputs": [
    {
     "data": {
      "image/png": "[encoded data removed]",
      "text/plain": [
       "<Figure size 640x480 with 1 Axes>"
      ]
     },
     "metadata": {},
     "output_type": "display_data"
    },
    {
     "data": {
      "text/plain": [
       "<Figure size 800x500 with 0 Axes>"
      ]
     },
     "metadata": {},
     "output_type": "display_data"
    }
   ],
   "source": [
    "# Plot graph with x, y and label set the fontsize = 14\n",
    "# Plot <Your Name> + title and set the fontsize = 14\n",
    "# plot size as (8,5)\n",
    "# plot with legend\n",
    "# plot with grid\n",
    "\n",
    "x = range(len(result))\n",
    "fig, ax = plt.subplots()\n",
    "ax.plot(x, result, color='red', linestyle='-', label = 'f (t)')\n",
    "ax.set_xlabel(\"t\", fontsize = 14)\n",
    "ax.set_ylabel(\"f (t)\", fontsize = 14) \n",
    "plt.title(\"Eli's Graph of $f(t) = \\\\frac{2t}{(1+t^2)^2}$\", fontsize = 14)\n",
    "ax.legend()\n",
    "ax.grid()\n",
    "\n",
    "f = plt.figure(figsize=(8,5))\n",
    "plt.show()"
   ]
  },
  {
   "cell_type": "markdown",
   "metadata": {},
   "source": [
    "#### Graduate student Instructions (CS557)\n",
    "\n",
    "- Let's think if we have this function: f (t) defined by: f (t) = 2t / (1 + t ^ 2) ^ 2 with t> 0.\n",
    "- Where t could be generated by np.linspace(0,10,100)\n",
    "- Provide line graph with mask = star\n",
    "- Provide bar graph with any 5 points data"
   ]
  },
  {
   "cell_type": "code",
   "execution_count": null,
   "metadata": {},
   "outputs": [],
   "source": [
    "# Your code:\n"
   ]
  },
  {
   "cell_type": "code",
   "execution_count": null,
   "metadata": {},
   "outputs": [],
   "source": [
    "# Line Graph\n",
    "# Plot graph with x, y and label set the fontsize = 14\n",
    "# Plot <Your Name> + title and set the fontsize = 14\n",
    "# plot size as (8,5)\n",
    "# plot with legend\n",
    "# plot with grid\n",
    "\n",
    "\n",
    "plt.title(\"<Your Name> + Graph of $y = \\\\frac{2x}{(1+x^2)^2}$\", fontsize=14)\n",
    "\n",
    "plt.show()"
   ]
  },
  {
   "cell_type": "code",
   "execution_count": null,
   "metadata": {},
   "outputs": [],
   "source": [
    "# Bar Graph\n",
    "# Plot graph with x, y and label set the fontsize = 14\n",
    "# Plot <Your Name> + title and set the fontsize = 14\n",
    "# plot size as (8,5)\n",
    "# plot with legend\n",
    "# plot with grid\n",
    "\n",
    "\n",
    "plt.title(\"<Your Name> + Graph of $y = \\\\frac{2x}{(1+x^2)^2}$\", fontsize=14)\n",
    "\n",
    "plt.show()"
   ]
  },
  {
   "cell_type": "markdown",
   "metadata": {},
   "source": [
    "# Exercise 3 - Pandas "
   ]
  },
  {
   "cell_type": "markdown",
   "metadata": {},
   "source": [
    "#### You have obtained a piece of data about a hill. Please manually assign this data to a dictionary.\n",
    "\n",
    "\n",
    "\"Hill Name\": [\"Everest\", \"K2\", \"Kangchenjunga\", \"Lhotse\", \"Makalu\", \"Cho Oyu\", \"Dhaulagiri\", \"Manaslu\", \"Nanga Parbat\", \"Annapurna\"],\n",
    "\n",
    "\"Height (m)\": [8848, 8611, 8586, 8516, 8485, 8188, 8167, 8163, 8126, 8091],\n",
    "\n",
    "\"Location\": [\"Nepal/China\", \"Pakistan/China\", \"Nepal/India\", \"Nepal/China\", \"Nepal/China\", \"Nepal/China\", \"Nepal\", \"Nepal\", \"Pakistan\", \"Nepal\"],\n",
    "\n",
    "\"First Ascent Year\": [1953, 1954, 1955, 1956, 1955, 1954, 1960, 1956, 1953, 1950],\n",
    "\n",
    "\"Prominence (m)\": [8848, 4017, 3922, 610, 2378, 2340, 3357, 3092, 4608, 2984]\n"
   ]
  },
  {
   "cell_type": "code",
   "execution_count": 198,
   "metadata": {},
   "outputs": [
    {
     "data": {
      "text/plain": [
       "{'Name': ['Everest',\n",
       "  'K2',\n",
       "  'Kangchenjunga',\n",
       "  'Lhotse',\n",
       "  'Makalu',\n",
       "  'Cho Oyu',\n",
       "  'Dhaulagiri',\n",
       "  'Manaslu',\n",
       "  'Nanga Parbat',\n",
       "  'Annapurna'],\n",
       " 'Height': [8848, 8611, 8586, 8516, 8485, 8188, 8167, 8163, 8126, 8091],\n",
       " 'Location': ['Nepal/China',\n",
       "  'Pakistan/China',\n",
       "  'Nepal/India',\n",
       "  'Nepal/China',\n",
       "  'Nepal/China',\n",
       "  'Nepal/China',\n",
       "  'Nepal',\n",
       "  'Nepal',\n",
       "  'Pakistan',\n",
       "  'Nepal'],\n",
       " 'First Ascent Year': [1953,\n",
       "  1954,\n",
       "  1955,\n",
       "  1956,\n",
       "  1955,\n",
       "  1954,\n",
       "  1960,\n",
       "  1956,\n",
       "  1953,\n",
       "  1950],\n",
       " 'Prominence': [8848, 4017, 3922, 610, 2378, 2340, 3357, 3092, 4608, 2984]}"
      ]
     },
     "execution_count": 198,
     "metadata": {},
     "output_type": "execute_result"
    }
   ],
   "source": [
    "# Your code: \n",
    "hill_names = [\"Everest\", \"K2\", \"Kangchenjunga\", \"Lhotse\", \"Makalu\", \"Cho Oyu\", \"Dhaulagiri\", \"Manaslu\", \"Nanga Parbat\", \"Annapurna\"]\n",
    "hill_heights = [8848, 8611, 8586, 8516, 8485, 8188, 8167, 8163, 8126, 8091]\n",
    "hill_locations = [\"Nepal/China\", \"Pakistan/China\", \"Nepal/India\", \"Nepal/China\", \"Nepal/China\", \"Nepal/China\", \"Nepal\", \"Nepal\", \"Pakistan\", \"Nepal\"]\n",
    "hill_first_ascent_years = [1953, 1954, 1955, 1956, 1955, 1954, 1960, 1956, 1953, 1950]\n",
    "hill_prominences =  [8848, 4017, 3922, 610, 2378, 2340, 3357, 3092, 4608, 2984]\n",
    "\n",
    "hill_data =  {'Name' : hill_names,\n",
    "              'Height' : hill_heights,\n",
    "              'Location' : hill_locations,\n",
    "              'First Ascent Year' : hill_first_ascent_years,\n",
    "              'Prominence' : hill_prominences}\n",
    "\n",
    "hill_data"
   ]
  },
  {
   "cell_type": "markdown",
   "metadata": {},
   "source": [
    "#### Convert your dictionary to a pandas dataframe with name hill_pd"
   ]
  },
  {
   "cell_type": "code",
   "execution_count": 200,
   "metadata": {},
   "outputs": [
    {
     "data": {
      "text/html": [
       "<div>\n",
       "<style scoped>\n",
       "    .dataframe tbody tr th:only-of-type {\n",
       "        vertical-align: middle;\n",
       "    }\n",
       "\n",
       "    .dataframe tbody tr th {\n",
       "        vertical-align: top;\n",
       "    }\n",
       "\n",
       "    .dataframe thead th {\n",
       "        text-align: right;\n",
       "    }\n",
       "</style>\n",
       "<table border=\"1\" class=\"dataframe\">\n",
       "  <thead>\n",
       "    <tr style=\"text-align: right;\">\n",
       "      <th></th>\n",
       "      <th>Name</th>\n",
       "      <th>Height</th>\n",
       "      <th>Location</th>\n",
       "      <th>First Ascent Year</th>\n",
       "      <th>Prominence</th>\n",
       "    </tr>\n",
       "  </thead>\n",
       "  <tbody>\n",
       "    <tr>\n",
       "      <th>0</th>\n",
       "      <td>Everest</td>\n",
       "      <td>8848</td>\n",
       "      <td>Nepal/China</td>\n",
       "      <td>1953</td>\n",
       "      <td>8848</td>\n",
       "    </tr>\n",
       "    <tr>\n",
       "      <th>1</th>\n",
       "      <td>K2</td>\n",
       "      <td>8611</td>\n",
       "      <td>Pakistan/China</td>\n",
       "      <td>1954</td>\n",
       "      <td>4017</td>\n",
       "    </tr>\n",
       "    <tr>\n",
       "      <th>2</th>\n",
       "      <td>Kangchenjunga</td>\n",
       "      <td>8586</td>\n",
       "      <td>Nepal/India</td>\n",
       "      <td>1955</td>\n",
       "      <td>3922</td>\n",
       "    </tr>\n",
       "    <tr>\n",
       "      <th>3</th>\n",
       "      <td>Lhotse</td>\n",
       "      <td>8516</td>\n",
       "      <td>Nepal/China</td>\n",
       "      <td>1956</td>\n",
       "      <td>610</td>\n",
       "    </tr>\n",
       "    <tr>\n",
       "      <th>4</th>\n",
       "      <td>Makalu</td>\n",
       "      <td>8485</td>\n",
       "      <td>Nepal/China</td>\n",
       "      <td>1955</td>\n",
       "      <td>2378</td>\n",
       "    </tr>\n",
       "    <tr>\n",
       "      <th>5</th>\n",
       "      <td>Cho Oyu</td>\n",
       "      <td>8188</td>\n",
       "      <td>Nepal/China</td>\n",
       "      <td>1954</td>\n",
       "      <td>2340</td>\n",
       "    </tr>\n",
       "    <tr>\n",
       "      <th>6</th>\n",
       "      <td>Dhaulagiri</td>\n",
       "      <td>8167</td>\n",
       "      <td>Nepal</td>\n",
       "      <td>1960</td>\n",
       "      <td>3357</td>\n",
       "    </tr>\n",
       "    <tr>\n",
       "      <th>7</th>\n",
       "      <td>Manaslu</td>\n",
       "      <td>8163</td>\n",
       "      <td>Nepal</td>\n",
       "      <td>1956</td>\n",
       "      <td>3092</td>\n",
       "    </tr>\n",
       "    <tr>\n",
       "      <th>8</th>\n",
       "      <td>Nanga Parbat</td>\n",
       "      <td>8126</td>\n",
       "      <td>Pakistan</td>\n",
       "      <td>1953</td>\n",
       "      <td>4608</td>\n",
       "    </tr>\n",
       "    <tr>\n",
       "      <th>9</th>\n",
       "      <td>Annapurna</td>\n",
       "      <td>8091</td>\n",
       "      <td>Nepal</td>\n",
       "      <td>1950</td>\n",
       "      <td>2984</td>\n",
       "    </tr>\n",
       "  </tbody>\n",
       "</table>\n",
       "</div>"
      ],
      "text/plain": [
       "            Name  Height        Location  First Ascent Year  Prominence\n",
       "0        Everest    8848     Nepal/China               1953        8848\n",
       "1             K2    8611  Pakistan/China               1954        4017\n",
       "2  Kangchenjunga    8586     Nepal/India               1955        3922\n",
       "3         Lhotse    8516     Nepal/China               1956         610\n",
       "4         Makalu    8485     Nepal/China               1955        2378\n",
       "5        Cho Oyu    8188     Nepal/China               1954        2340\n",
       "6     Dhaulagiri    8167           Nepal               1960        3357\n",
       "7        Manaslu    8163           Nepal               1956        3092\n",
       "8   Nanga Parbat    8126        Pakistan               1953        4608\n",
       "9      Annapurna    8091           Nepal               1950        2984"
      ]
     },
     "execution_count": 200,
     "metadata": {},
     "output_type": "execute_result"
    }
   ],
   "source": [
    "#Your code:\n",
    "hill_pd = pd.DataFrame(hill_data)\n",
    "hill_pd"
   ]
  },
  {
   "cell_type": "markdown",
   "metadata": {},
   "source": [
    "#### Save your hill_pd to csv"
   ]
  },
  {
   "cell_type": "code",
   "execution_count": 202,
   "metadata": {},
   "outputs": [],
   "source": [
    "# Your code:\n",
    "hill_pd.to_csv(\"hill_pd.csv\", index = False)"
   ]
  },
  {
   "cell_type": "markdown",
   "metadata": {},
   "source": [
    "#### Read your hill data from your csv"
   ]
  },
  {
   "cell_type": "code",
   "execution_count": 204,
   "metadata": {},
   "outputs": [
    {
     "data": {
      "text/html": [
       "<div>\n",
       "<style scoped>\n",
       "    .dataframe tbody tr th:only-of-type {\n",
       "        vertical-align: middle;\n",
       "    }\n",
       "\n",
       "    .dataframe tbody tr th {\n",
       "        vertical-align: top;\n",
       "    }\n",
       "\n",
       "    .dataframe thead th {\n",
       "        text-align: right;\n",
       "    }\n",
       "</style>\n",
       "<table border=\"1\" class=\"dataframe\">\n",
       "  <thead>\n",
       "    <tr style=\"text-align: right;\">\n",
       "      <th></th>\n",
       "      <th>Name</th>\n",
       "      <th>Height</th>\n",
       "      <th>Location</th>\n",
       "      <th>First Ascent Year</th>\n",
       "      <th>Prominence</th>\n",
       "    </tr>\n",
       "  </thead>\n",
       "  <tbody>\n",
       "    <tr>\n",
       "      <th>0</th>\n",
       "      <td>Everest</td>\n",
       "      <td>8848</td>\n",
       "      <td>Nepal/China</td>\n",
       "      <td>1953</td>\n",
       "      <td>8848</td>\n",
       "    </tr>\n",
       "    <tr>\n",
       "      <th>1</th>\n",
       "      <td>K2</td>\n",
       "      <td>8611</td>\n",
       "      <td>Pakistan/China</td>\n",
       "      <td>1954</td>\n",
       "      <td>4017</td>\n",
       "    </tr>\n",
       "    <tr>\n",
       "      <th>2</th>\n",
       "      <td>Kangchenjunga</td>\n",
       "      <td>8586</td>\n",
       "      <td>Nepal/India</td>\n",
       "      <td>1955</td>\n",
       "      <td>3922</td>\n",
       "    </tr>\n",
       "    <tr>\n",
       "      <th>3</th>\n",
       "      <td>Lhotse</td>\n",
       "      <td>8516</td>\n",
       "      <td>Nepal/China</td>\n",
       "      <td>1956</td>\n",
       "      <td>610</td>\n",
       "    </tr>\n",
       "    <tr>\n",
       "      <th>4</th>\n",
       "      <td>Makalu</td>\n",
       "      <td>8485</td>\n",
       "      <td>Nepal/China</td>\n",
       "      <td>1955</td>\n",
       "      <td>2378</td>\n",
       "    </tr>\n",
       "    <tr>\n",
       "      <th>5</th>\n",
       "      <td>Cho Oyu</td>\n",
       "      <td>8188</td>\n",
       "      <td>Nepal/China</td>\n",
       "      <td>1954</td>\n",
       "      <td>2340</td>\n",
       "    </tr>\n",
       "    <tr>\n",
       "      <th>6</th>\n",
       "      <td>Dhaulagiri</td>\n",
       "      <td>8167</td>\n",
       "      <td>Nepal</td>\n",
       "      <td>1960</td>\n",
       "      <td>3357</td>\n",
       "    </tr>\n",
       "    <tr>\n",
       "      <th>7</th>\n",
       "      <td>Manaslu</td>\n",
       "      <td>8163</td>\n",
       "      <td>Nepal</td>\n",
       "      <td>1956</td>\n",
       "      <td>3092</td>\n",
       "    </tr>\n",
       "    <tr>\n",
       "      <th>8</th>\n",
       "      <td>Nanga Parbat</td>\n",
       "      <td>8126</td>\n",
       "      <td>Pakistan</td>\n",
       "      <td>1953</td>\n",
       "      <td>4608</td>\n",
       "    </tr>\n",
       "    <tr>\n",
       "      <th>9</th>\n",
       "      <td>Annapurna</td>\n",
       "      <td>8091</td>\n",
       "      <td>Nepal</td>\n",
       "      <td>1950</td>\n",
       "      <td>2984</td>\n",
       "    </tr>\n",
       "  </tbody>\n",
       "</table>\n",
       "</div>"
      ],
      "text/plain": [
       "            Name  Height        Location  First Ascent Year  Prominence\n",
       "0        Everest    8848     Nepal/China               1953        8848\n",
       "1             K2    8611  Pakistan/China               1954        4017\n",
       "2  Kangchenjunga    8586     Nepal/India               1955        3922\n",
       "3         Lhotse    8516     Nepal/China               1956         610\n",
       "4         Makalu    8485     Nepal/China               1955        2378\n",
       "5        Cho Oyu    8188     Nepal/China               1954        2340\n",
       "6     Dhaulagiri    8167           Nepal               1960        3357\n",
       "7        Manaslu    8163           Nepal               1956        3092\n",
       "8   Nanga Parbat    8126        Pakistan               1953        4608\n",
       "9      Annapurna    8091           Nepal               1950        2984"
      ]
     },
     "execution_count": 204,
     "metadata": {},
     "output_type": "execute_result"
    }
   ],
   "source": [
    "# your code\n",
    "read_hill_pd = pd.read_csv(\"hill_pd.csv\")\n",
    "read_hill_pd"
   ]
  },
  {
   "cell_type": "markdown",
   "metadata": {},
   "source": [
    "#### Please select hills with an altitude higher than 8100 meters and express them in the form of a bar graph."
   ]
  },
  {
   "cell_type": "code",
   "execution_count": 210,
   "metadata": {},
   "outputs": [
    {
     "data": {
      "text/html": [
       "<div>\n",
       "<style scoped>\n",
       "    .dataframe tbody tr th:only-of-type {\n",
       "        vertical-align: middle;\n",
       "    }\n",
       "\n",
       "    .dataframe tbody tr th {\n",
       "        vertical-align: top;\n",
       "    }\n",
       "\n",
       "    .dataframe thead th {\n",
       "        text-align: right;\n",
       "    }\n",
       "</style>\n",
       "<table border=\"1\" class=\"dataframe\">\n",
       "  <thead>\n",
       "    <tr style=\"text-align: right;\">\n",
       "      <th></th>\n",
       "      <th>Name</th>\n",
       "      <th>Height</th>\n",
       "      <th>Location</th>\n",
       "      <th>First Ascent Year</th>\n",
       "      <th>Prominence</th>\n",
       "    </tr>\n",
       "  </thead>\n",
       "  <tbody>\n",
       "    <tr>\n",
       "      <th>0</th>\n",
       "      <td>Everest</td>\n",
       "      <td>8848</td>\n",
       "      <td>Nepal/China</td>\n",
       "      <td>1953</td>\n",
       "      <td>8848</td>\n",
       "    </tr>\n",
       "    <tr>\n",
       "      <th>1</th>\n",
       "      <td>K2</td>\n",
       "      <td>8611</td>\n",
       "      <td>Pakistan/China</td>\n",
       "      <td>1954</td>\n",
       "      <td>4017</td>\n",
       "    </tr>\n",
       "    <tr>\n",
       "      <th>2</th>\n",
       "      <td>Kangchenjunga</td>\n",
       "      <td>8586</td>\n",
       "      <td>Nepal/India</td>\n",
       "      <td>1955</td>\n",
       "      <td>3922</td>\n",
       "    </tr>\n",
       "    <tr>\n",
       "      <th>3</th>\n",
       "      <td>Lhotse</td>\n",
       "      <td>8516</td>\n",
       "      <td>Nepal/China</td>\n",
       "      <td>1956</td>\n",
       "      <td>610</td>\n",
       "    </tr>\n",
       "    <tr>\n",
       "      <th>4</th>\n",
       "      <td>Makalu</td>\n",
       "      <td>8485</td>\n",
       "      <td>Nepal/China</td>\n",
       "      <td>1955</td>\n",
       "      <td>2378</td>\n",
       "    </tr>\n",
       "    <tr>\n",
       "      <th>5</th>\n",
       "      <td>Cho Oyu</td>\n",
       "      <td>8188</td>\n",
       "      <td>Nepal/China</td>\n",
       "      <td>1954</td>\n",
       "      <td>2340</td>\n",
       "    </tr>\n",
       "    <tr>\n",
       "      <th>6</th>\n",
       "      <td>Dhaulagiri</td>\n",
       "      <td>8167</td>\n",
       "      <td>Nepal</td>\n",
       "      <td>1960</td>\n",
       "      <td>3357</td>\n",
       "    </tr>\n",
       "    <tr>\n",
       "      <th>7</th>\n",
       "      <td>Manaslu</td>\n",
       "      <td>8163</td>\n",
       "      <td>Nepal</td>\n",
       "      <td>1956</td>\n",
       "      <td>3092</td>\n",
       "    </tr>\n",
       "    <tr>\n",
       "      <th>8</th>\n",
       "      <td>Nanga Parbat</td>\n",
       "      <td>8126</td>\n",
       "      <td>Pakistan</td>\n",
       "      <td>1953</td>\n",
       "      <td>4608</td>\n",
       "    </tr>\n",
       "  </tbody>\n",
       "</table>\n",
       "</div>"
      ],
      "text/plain": [
       "            Name  Height        Location  First Ascent Year  Prominence\n",
       "0        Everest    8848     Nepal/China               1953        8848\n",
       "1             K2    8611  Pakistan/China               1954        4017\n",
       "2  Kangchenjunga    8586     Nepal/India               1955        3922\n",
       "3         Lhotse    8516     Nepal/China               1956         610\n",
       "4         Makalu    8485     Nepal/China               1955        2378\n",
       "5        Cho Oyu    8188     Nepal/China               1954        2340\n",
       "6     Dhaulagiri    8167           Nepal               1960        3357\n",
       "7        Manaslu    8163           Nepal               1956        3092\n",
       "8   Nanga Parbat    8126        Pakistan               1953        4608"
      ]
     },
     "execution_count": 210,
     "metadata": {},
     "output_type": "execute_result"
    }
   ],
   "source": [
    "# your code:\n",
    "selected_hill = hill_pd[hill_pd[\"Height\"] > 8100]\n",
    "selected_hill"
   ]
  },
  {
   "cell_type": "code",
   "execution_count": 232,
   "metadata": {},
   "outputs": [
    {
     "data": {
      "image/png": "[encoded data removed]",
      "text/plain": [
       "<Figure size 640x480 with 1 Axes>"
      ]
     },
     "metadata": {},
     "output_type": "display_data"
    }
   ],
   "source": [
    "# Visualization\n",
    "# Need to add x,y labels, titles and grid.\n",
    "# Please add your name on graph titles.\n",
    "\n",
    "# your code\n",
    "ax = hill_pd.sort_values(by='Height', ascending=True).plot(x=\"Name\", y=[\"Height\", \"Prominence\"], kind=\"bar\")\n",
    "ax.set_title(\"Mountain Height and Prominence by Name\")\n",
    "ax.set_xlabel(\"Mountain Name\")\n",
    "ax.set_ylabel(\"Verticle Height (m)\")\n",
    "ax.grid(axis='y',linestyle='--')"
   ]
  },
  {
   "cell_type": "markdown",
   "metadata": {},
   "source": [
    "#### For Graduate students only (CS557)\n",
    "\n",
    "Please add another set of visualizations using the **Prominence** data and explain their significance."
   ]
  },
  {
   "cell_type": "code",
   "execution_count": null,
   "metadata": {},
   "outputs": [],
   "source": []
  }
 ],
 "metadata": {
  "kernelspec": {
   "display_name": "Python 3 (ipykernel)",
   "language": "python",
   "name": "python3"
  },
  "language_info": {
   "codemirror_mode": {
    "name": "ipython",
    "version": 3
   },
   "file_extension": ".py",
   "mimetype": "text/x-python",
   "name": "python",
   "nbconvert_exporter": "python",
   "pygments_lexer": "ipython3",
   "version": "3.12.7"
  }
 },
 "nbformat": 4,
 "nbformat_minor": 4
}
