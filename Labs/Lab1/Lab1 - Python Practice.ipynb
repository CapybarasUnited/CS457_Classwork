{
 "cells": [
  {
   "cell_type": "markdown",
   "metadata": {},
   "source": [
    "# Exercises with Python"
   ]
  },
  {
   "cell_type": "code",
   "execution_count": 13,
   "metadata": {},
   "outputs": [],
   "source": [
    "import numpy as np\n",
    "import matplotlib.pyplot as plt\n",
    "import pandas as pd\n",
    "from random import randint"
   ]
  },
  {
   "cell_type": "markdown",
   "metadata": {},
   "source": [
    "## Exercise 1 - Numpy\n",
    "#### Creat an array of 450 random integers between -10 and 10"
   ]
  },
  {
   "cell_type": "code",
   "execution_count": 43,
   "metadata": {},
   "outputs": [
    {
     "data": {
      "text/plain": [
       "array([  2,   4, -10, -10,   3,  -3,   4, -10,   4,   5,   2,  10,  -1,\n",
       "         8,   2,  -4,   8,  10,  -9,   2,  -7, -10,  -5,   2,  -9, -10,\n",
       "        -2,  -9,   3,  -2,  10,  10,  -4,   8,  -6,   2,  -5,  -1,   0,\n",
       "        -2,  -2,   3,  -8,   9,   6,  -2,  -2, -10,  -4,   7,  -1,  -3,\n",
       "         1,   9,   8,   1,  -8,   6,   1,  -1,  -4,  -4,   1,  -5,   5,\n",
       "        -8,   9,  -5,  -1,   7,   8,   5,  -2,   2,   7,   1,  -4,   4,\n",
       "        -8,   2,  -7,  -2,  -1,  -3,  10,  -2,   7,  10,   7,   5,  -6,\n",
       "         7,  -9,  -4,   3,  -6, -10,   5,   2,  -1,  -4,   7,  -8,  10,\n",
       "         7,  -7,  -8,   3,   2,   6,  -5,   4,  10,   7,  -4,  -9,  -4,\n",
       "        -3,   1,   3,  -7,   3,  10,   3,   0,  -5,  -5, -10, -10,   5,\n",
       "        10,   9, -10,  -3,  -3,  -5,   0,  -2, -10,   0,   0,  -1,   0,\n",
       "        -2,  -3,  -8,  -6,   3,   1,   5,   9,   4,   8,   0,  -5,   7,\n",
       "        -8,   3,  -5,   8,   6,   3,  -2,   5,   1,   4,  -8,  -2,  -3,\n",
       "        -7,  -2,  -4,   6,   5,   3,   2,  -7,  -3,   8,  -1,  -5,  -3,\n",
       "        -5,   9,  -6,   1,  -6,  -9,  -9,  -5,  -8,   7,   9,  -2, -10,\n",
       "        -5,   7,  -7,  10,  -7,  -9,   6,   4,   1,   6,   9,   6,   8,\n",
       "         8,  -2,  -4,  -5,  10,   9,   1,  -6,  -6,  -3,  -8,   6,   9,\n",
       "         0,   2,  10,  -8,   1, -10,   8,  -2,   0,   2,  -6,   3,   5,\n",
       "        10,  -5, -10,  -4,  -8,   0,  -3,  -2,  -2,  -7,  -8,  10,  -4,\n",
       "         1,  -2,  -9,   0,   1,   9,  -4, -10,  -7,  -9,   7,  10,   0,\n",
       "        -8,   2,   5,   4,   8,  -1,  -2,  10,  -2,  10,  -5,   1,  10,\n",
       "        -5,  -2,  -3,  -9,  -1,  10,   1,   9,   1,  -6,  -6,  -6,  -2,\n",
       "         3,  -7,  -8, -10,  -1,   2,  -3,   8,  -1,  -1,  -3,   3,   5,\n",
       "         5,   7, -10,   3,  -2,  -2,  -9,  -4,   2,   5,   3,  -4,  -4,\n",
       "         9,  -3,  -8,   0,  -3,  -7,   7,  -4,  10,   8,  -2, -10,  -3,\n",
       "        -9,   1,  -9,   3,   9,  -6,  -6,   0,   9,  -6,  -2,  -2,  -2,\n",
       "        -5,  -4,   6,  -6,  -9,  -5,  -5,  -8,  -3,  -5,   1,   0,   9,\n",
       "        -6,  -5,  -8,  -7,  -8,   0,  -9,   5,   0,  -7,   7,   7,  -7,\n",
       "         5,   7,  -8,  -8,  -4,   4,  -8,   7,   1,   1,   4,   9,   3,\n",
       "        -6,   1,   1,   7,  -3,   6,  -6,   5, -10,  -3,   1,   1,   5,\n",
       "         4,   0,   9,  -2,   9,   7,   7,  -8,   0,   8,  -9,   2,   3,\n",
       "        -3,   9,   1,   2,   8,  -9, -10,  -1,  10,  -8, -10,  -4,  -2,\n",
       "       -10,   0,  -6,   4,  10,  -3, -10,  -8,   6,  10,   2,  -2,   5,\n",
       "        -6,  -5,   3,  -5,  -9,  -1,  -7,  -8,   0,   4,  -2,  -3, -10,\n",
       "       -10, -10,  -9,  -1,   1,   2,  -1,   6])"
      ]
     },
     "execution_count": 43,
     "metadata": {},
     "output_type": "execute_result"
    }
   ],
   "source": [
    "# Your code: \n",
    "\n",
    "temp = []\n",
    "\n",
    "for i in range(450):\n",
    "    temp.append(randint(-10, 10))\n",
    "\n",
    "array = np.array(temp)\n",
    "array"
   ]
  },
  {
   "cell_type": "markdown",
   "metadata": {},
   "source": [
    "#### Resize the above array as a 5x70 matrix. \n",
    "#### Is there a problem? \n",
    "\n",
    "#### If there is, correct it to a suitable shape.\n",
    "\n",
    "We check what dimension our array has:"
   ]
  },
  {
   "cell_type": "code",
   "execution_count": 67,
   "metadata": {},
   "outputs": [
    {
     "name": "stdout",
     "output_type": "stream",
     "text": [
      "(450,)\n"
     ]
    },
    {
     "ename": "ValueError",
     "evalue": "cannot reshape array of size 450 into shape (5,70)",
     "output_type": "error",
     "traceback": [
      "\u001b[1;31m---------------------------------------------------------------------------\u001b[0m",
      "\u001b[1;31mValueError\u001b[0m                                Traceback (most recent call last)",
      "Cell \u001b[1;32mIn[67], line 5\u001b[0m\n\u001b[0;32m      1\u001b[0m \u001b[38;5;66;03m# Your code:\u001b[39;00m\n\u001b[0;32m      3\u001b[0m \u001b[38;5;28mprint\u001b[39m(array\u001b[38;5;241m.\u001b[39mshape)\n\u001b[1;32m----> 5\u001b[0m new_matrix \u001b[38;5;241m=\u001b[39m array\u001b[38;5;241m.\u001b[39mreshape((\u001b[38;5;241m5\u001b[39m, \u001b[38;5;241m70\u001b[39m))\n",
      "\u001b[1;31mValueError\u001b[0m: cannot reshape array of size 450 into shape (5,70)"
     ]
    }
   ],
   "source": [
    "# Your code:\n",
    "\n",
    "print(array.shape)\n",
    "\n",
    "new_matrix = array.reshape((5, 70))\n",
    "\n",
    "\n",
    "# Is there a problem? why?\n",
    "#Please add your idea\n",
    "\n",
    "# there are too many numbers in the array to reshape it to a 5x70, as that matrix would have 350 numbers and we have 450\n",
    "# to fix this I cut the last 100 numbers in the array so it can be reshaped to 5x70 correctly"
   ]
  },
  {
   "cell_type": "code",
   "execution_count": 65,
   "metadata": {},
   "outputs": [
    {
     "data": {
      "text/plain": [
       "(450,)"
      ]
     },
     "execution_count": 65,
     "metadata": {},
     "output_type": "execute_result"
    }
   ],
   "source": [
    "array.shape"
   ]
  },
  {
   "cell_type": "markdown",
   "metadata": {},
   "source": [
    "We resize:"
   ]
  },
  {
   "cell_type": "code",
   "execution_count": 77,
   "metadata": {},
   "outputs": [
    {
     "data": {
      "text/plain": [
       "array([[  2,   4, -10, -10,   3,  -3,   4, -10,   4,   5,   2,  10,  -1,\n",
       "          8,   2,  -4,   8,  10,  -9,   2,  -7, -10,  -5,   2,  -9, -10,\n",
       "         -2,  -9,   3,  -2,  10,  10,  -4,   8,  -6,   2,  -5,  -1,   0,\n",
       "         -2,  -2,   3,  -8,   9,   6,  -2,  -2, -10,  -4,   7,  -1,  -3,\n",
       "          1,   9,   8,   1,  -8,   6,   1,  -1,  -4,  -4,   1,  -5,   5,\n",
       "         -8,   9,  -5,  -1,   7],\n",
       "       [  8,   5,  -2,   2,   7,   1,  -4,   4,  -8,   2,  -7,  -2,  -1,\n",
       "         -3,  10,  -2,   7,  10,   7,   5,  -6,   7,  -9,  -4,   3,  -6,\n",
       "        -10,   5,   2,  -1,  -4,   7,  -8,  10,   7,  -7,  -8,   3,   2,\n",
       "          6,  -5,   4,  10,   7,  -4,  -9,  -4,  -3,   1,   3,  -7,   3,\n",
       "         10,   3,   0,  -5,  -5, -10, -10,   5,  10,   9, -10,  -3,  -3,\n",
       "         -5,   0,  -2, -10,   0],\n",
       "       [  0,  -1,   0,  -2,  -3,  -8,  -6,   3,   1,   5,   9,   4,   8,\n",
       "          0,  -5,   7,  -8,   3,  -5,   8,   6,   3,  -2,   5,   1,   4,\n",
       "         -8,  -2,  -3,  -7,  -2,  -4,   6,   5,   3,   2,  -7,  -3,   8,\n",
       "         -1,  -5,  -3,  -5,   9,  -6,   1,  -6,  -9,  -9,  -5,  -8,   7,\n",
       "          9,  -2, -10,  -5,   7,  -7,  10,  -7,  -9,   6,   4,   1,   6,\n",
       "          9,   6,   8,   8,  -2],\n",
       "       [ -4,  -5,  10,   9,   1,  -6,  -6,  -3,  -8,   6,   9,   0,   2,\n",
       "         10,  -8,   1, -10,   8,  -2,   0,   2,  -6,   3,   5,  10,  -5,\n",
       "        -10,  -4,  -8,   0,  -3,  -2,  -2,  -7,  -8,  10,  -4,   1,  -2,\n",
       "         -9,   0,   1,   9,  -4, -10,  -7,  -9,   7,  10,   0,  -8,   2,\n",
       "          5,   4,   8,  -1,  -2,  10,  -2,  10,  -5,   1,  10,  -5,  -2,\n",
       "         -3,  -9,  -1,  10,   1],\n",
       "       [  9,   1,  -6,  -6,  -6,  -2,   3,  -7,  -8, -10,  -1,   2,  -3,\n",
       "          8,  -1,  -1,  -3,   3,   5,   5,   7, -10,   3,  -2,  -2,  -9,\n",
       "         -4,   2,   5,   3,  -4,  -4,   9,  -3,  -8,   0,  -3,  -7,   7,\n",
       "         -4,  10,   8,  -2, -10,  -3,  -9,   1,  -9,   3,   9,  -6,  -6,\n",
       "          0,   9,  -6,  -2,  -2,  -2,  -5,  -4,   6,  -6,  -9,  -5,  -5,\n",
       "         -8,  -3,  -5,   1,   0]])"
      ]
     },
     "execution_count": 77,
     "metadata": {},
     "output_type": "execute_result"
    }
   ],
   "source": [
    "corrected_matrix = np.resize(array, 350).reshape((5, 70))\n",
    "corrected_matrix\n"
   ]
  },
  {
   "cell_type": "markdown",
   "metadata": {},
   "source": [
    "#### Choose values greater than 0 from your corrected_matrix."
   ]
  },
  {
   "cell_type": "code",
   "execution_count": 83,
   "metadata": {},
   "outputs": [
    {
     "data": {
      "text/plain": [
       "array([  2,   4, -10, -10,   3,  -3,   4, -10,   4,   5,   2,  10,  -1,\n",
       "         8,   2,  -4,   8,  10,  -9,   2,  -7, -10,  -5,   2,  -9, -10,\n",
       "        -2,  -9,   3,  -2,  10,  10,  -4,   8,  -6,   2,  -5,  -1,  -2,\n",
       "        -2,   3,  -8,   9,   6,  -2,  -2, -10,  -4,   7,  -1,  -3,   1,\n",
       "         9,   8,   1,  -8,   6,   1,  -1,  -4,  -4,   1,  -5,   5,  -8,\n",
       "         9,  -5,  -1,   7,   8,   5,  -2,   2,   7,   1,  -4,   4,  -8,\n",
       "         2,  -7,  -2,  -1,  -3,  10,  -2,   7,  10,   7,   5,  -6,   7,\n",
       "        -9,  -4,   3,  -6, -10,   5,   2,  -1,  -4,   7,  -8,  10,   7,\n",
       "        -7,  -8,   3,   2,   6,  -5,   4,  10,   7,  -4,  -9,  -4,  -3,\n",
       "         1,   3,  -7,   3,  10,   3,  -5,  -5, -10, -10,   5,  10,   9,\n",
       "       -10,  -3,  -3,  -5,  -2, -10,  -1,  -2,  -3,  -8,  -6,   3,   1,\n",
       "         5,   9,   4,   8,  -5,   7,  -8,   3,  -5,   8,   6,   3,  -2,\n",
       "         5,   1,   4,  -8,  -2,  -3,  -7,  -2,  -4,   6,   5,   3,   2,\n",
       "        -7,  -3,   8,  -1,  -5,  -3,  -5,   9,  -6,   1,  -6,  -9,  -9,\n",
       "        -5,  -8,   7,   9,  -2, -10,  -5,   7,  -7,  10,  -7,  -9,   6,\n",
       "         4,   1,   6,   9,   6,   8,   8,  -2,  -4,  -5,  10,   9,   1,\n",
       "        -6,  -6,  -3,  -8,   6,   9,   2,  10,  -8,   1, -10,   8,  -2,\n",
       "         2,  -6,   3,   5,  10,  -5, -10,  -4,  -8,  -3,  -2,  -2,  -7,\n",
       "        -8,  10,  -4,   1,  -2,  -9,   1,   9,  -4, -10,  -7,  -9,   7,\n",
       "        10,  -8,   2,   5,   4,   8,  -1,  -2,  10,  -2,  10,  -5,   1,\n",
       "        10,  -5,  -2,  -3,  -9,  -1,  10,   1,   9,   1,  -6,  -6,  -6,\n",
       "        -2,   3,  -7,  -8, -10,  -1,   2,  -3,   8,  -1,  -1,  -3,   3,\n",
       "         5,   5,   7, -10,   3,  -2,  -2,  -9,  -4,   2,   5,   3,  -4,\n",
       "        -4,   9,  -3,  -8,  -3,  -7,   7,  -4,  10,   8,  -2, -10,  -3,\n",
       "        -9,   1,  -9,   3,   9,  -6,  -6,   9,  -6,  -2,  -2,  -2,  -5,\n",
       "        -4,   6,  -6,  -9,  -5,  -5,  -8,  -3,  -5,   1])"
      ]
     },
     "execution_count": 83,
     "metadata": {},
     "output_type": "execute_result"
    }
   ],
   "source": [
    "no_zeros_array = corrected_matrix[corrected_matrix != 0]\n",
    "no_zeros_array"
   ]
  },
  {
   "cell_type": "code",
   "execution_count": 97,
   "metadata": {},
   "outputs": [
    {
     "data": {
      "text/plain": [
       "array([5, 6, 7, 9])"
      ]
     },
     "execution_count": 97,
     "metadata": {},
     "output_type": "execute_result"
    }
   ],
   "source": [
    "#### Given this array x = np.array ([- 5,6, -7,9]), create another array in absolute value \n",
    "\n",
    "# your code:\n",
    "np.absolute(np.array([-5, 6, -7, 9]))"
   ]
  },
  {
   "cell_type": "markdown",
   "metadata": {},
   "source": [
    "#### Given this array x = np.array ([- 5,6, -7,9]), transform it into a 2x2 matrix and calculate the maximum and minimum of each row and column. "
   ]
  },
  {
   "cell_type": "code",
   "execution_count": 127,
   "metadata": {},
   "outputs": [
    {
     "name": "stdout",
     "output_type": "stream",
     "text": [
      "[[-5  6]\n",
      " [-7  9]]\n",
      "Max verticles [-5  9]\n",
      "Max horizontils [6 9]\n"
     ]
    }
   ],
   "source": [
    "# your code:\n",
    "x = np.array ([- 5,6, -7,9])\n",
    "x_reshaped = x.reshape((2,2))\n",
    "\n",
    "print(x_reshaped)\n",
    "\n",
    "print(\"Max verticles\", x_reshaped.max(0))\n",
    "print(\"Max horizontils\", x_reshaped.max(1))"
   ]
  },
  {
   "cell_type": "markdown",
   "metadata": {},
   "source": [
    "#### Create a matrix of ones with 3x3 range as a_ones, and modify the the a_ones[1][0] = 3  "
   ]
  },
  {
   "cell_type": "code",
   "execution_count": 123,
   "metadata": {},
   "outputs": [
    {
     "data": {
      "text/plain": [
       "array([[1., 1., 1.],\n",
       "       [3., 1., 1.],\n",
       "       [1., 1., 1.]])"
      ]
     },
     "execution_count": 123,
     "metadata": {},
     "output_type": "execute_result"
    }
   ],
   "source": [
    "# your code:\n",
    "\n",
    "a_ones = np.ones(9).reshape((3,3))\n",
    "\n",
    "a_ones[1][0] = 3\n",
    "\n",
    "a_ones\n"
   ]
  },
  {
   "cell_type": "markdown",
   "metadata": {},
   "source": [
    "#### Compute dot product for a_ones and x_reshaped"
   ]
  },
  {
   "cell_type": "code",
   "execution_count": null,
   "metadata": {},
   "outputs": [],
   "source": [
    "# your code\n",
    "\n",
    "\n",
    "\n",
    "# List the mathematical calculation steps\n"
   ]
  },
  {
   "cell_type": "markdown",
   "metadata": {},
   "source": [
    "## Exercise 2 - Plot Practice"
   ]
  },
  {
   "cell_type": "markdown",
   "metadata": {},
   "source": [
    "#### Undergraduate student Instructions (CS457)\n",
    "\n",
    "- Let's think if we have this function: f (t) defined by: f (t) = 2t / (1 + t ^ 2) ^ 2 with t> 0.\n",
    "- Where t could be generated by np.linspace(0,10,100)\n",
    "- Provide plot results"
   ]
  },
  {
   "cell_type": "code",
   "execution_count": null,
   "metadata": {},
   "outputs": [],
   "source": [
    "# Your code:\n"
   ]
  },
  {
   "cell_type": "code",
   "execution_count": null,
   "metadata": {},
   "outputs": [],
   "source": [
    "# Plot graph with x, y and label set the fontsize = 14\n",
    "# Plot <Your Name> + title and set the fontsize = 14\n",
    "# plot size as (8,5)\n",
    "# plot with legend\n",
    "# plot with grid\n",
    "\n",
    "\n",
    "plt.title(\"<Your Name> + Graph of $y = \\\\frac{2x}{(1+x^2)^2}$\", fontsize=14)\n",
    "\n",
    "plt.show()"
   ]
  },
  {
   "cell_type": "markdown",
   "metadata": {},
   "source": [
    "#### Graduate student Instructions (CS557)\n",
    "\n",
    "- Let's think if we have this function: f (t) defined by: f (t) = 2t / (1 + t ^ 2) ^ 2 with t> 0.\n",
    "- Where t could be generated by np.linspace(0,10,100)\n",
    "- Provide line graph with mask = star\n",
    "- Provide bar graph with any 5 points data"
   ]
  },
  {
   "cell_type": "code",
   "execution_count": null,
   "metadata": {},
   "outputs": [],
   "source": [
    "# Your code:\n"
   ]
  },
  {
   "cell_type": "code",
   "execution_count": null,
   "metadata": {},
   "outputs": [],
   "source": [
    "# Line Graph\n",
    "# Plot graph with x, y and label set the fontsize = 14\n",
    "# Plot <Your Name> + title and set the fontsize = 14\n",
    "# plot size as (8,5)\n",
    "# plot with legend\n",
    "# plot with grid\n",
    "\n",
    "\n",
    "plt.title(\"<Your Name> + Graph of $y = \\\\frac{2x}{(1+x^2)^2}$\", fontsize=14)\n",
    "\n",
    "plt.show()"
   ]
  },
  {
   "cell_type": "code",
   "execution_count": null,
   "metadata": {},
   "outputs": [],
   "source": [
    "# Bar Graph\n",
    "# Plot graph with x, y and label set the fontsize = 14\n",
    "# Plot <Your Name> + title and set the fontsize = 14\n",
    "# plot size as (8,5)\n",
    "# plot with legend\n",
    "# plot with grid\n",
    "\n",
    "\n",
    "plt.title(\"<Your Name> + Graph of $y = \\\\frac{2x}{(1+x^2)^2}$\", fontsize=14)\n",
    "\n",
    "plt.show()"
   ]
  },
  {
   "cell_type": "markdown",
   "metadata": {},
   "source": [
    "# Exercise 3 - Pandas "
   ]
  },
  {
   "cell_type": "markdown",
   "metadata": {},
   "source": [
    "#### You have obtained a piece of data about a hill. Please manually assign this data to a dictionary.\n",
    "\n",
    "\n",
    "\"Hill Name\": [\"Everest\", \"K2\", \"Kangchenjunga\", \"Lhotse\", \"Makalu\", \"Cho Oyu\", \"Dhaulagiri\", \"Manaslu\", \"Nanga Parbat\", \"Annapurna\"],\n",
    "\n",
    "\"Height (m)\": [8848, 8611, 8586, 8516, 8485, 8188, 8167, 8163, 8126, 8091],\n",
    "\n",
    "\"Location\": [\"Nepal/China\", \"Pakistan/China\", \"Nepal/India\", \"Nepal/China\", \"Nepal/China\", \"Nepal/China\", \"Nepal\", \"Nepal\", \"Pakistan\", \"Nepal\"],\n",
    "\n",
    "\"First Ascent Year\": [1953, 1954, 1955, 1956, 1955, 1954, 1960, 1956, 1953, 1950],\n",
    "\n",
    "\"Prominence (m)\": [8848, 4017, 3922, 610, 2378, 2340, 3357, 3092, 4608, 2984]\n"
   ]
  },
  {
   "cell_type": "code",
   "execution_count": null,
   "metadata": {},
   "outputs": [],
   "source": [
    "# Your code: \n",
    "hill_data =  # your code"
   ]
  },
  {
   "cell_type": "markdown",
   "metadata": {},
   "source": [
    "#### Convert your dictionary to a pandas dataframe with name hill_pd"
   ]
  },
  {
   "cell_type": "code",
   "execution_count": null,
   "metadata": {},
   "outputs": [],
   "source": [
    "\n",
    "#Your code:\n"
   ]
  },
  {
   "cell_type": "markdown",
   "metadata": {},
   "source": [
    "#### Save your hill_pd to csv"
   ]
  },
  {
   "cell_type": "code",
   "execution_count": null,
   "metadata": {},
   "outputs": [],
   "source": [
    "# Your code:\n"
   ]
  },
  {
   "cell_type": "markdown",
   "metadata": {},
   "source": [
    "#### Read your hill data from your csv"
   ]
  },
  {
   "cell_type": "code",
   "execution_count": null,
   "metadata": {},
   "outputs": [],
   "source": [
    "# your code\n"
   ]
  },
  {
   "cell_type": "markdown",
   "metadata": {},
   "source": [
    "#### Please select hills with an altitude higher than 8100 meters and express them in the form of a bar graph."
   ]
  },
  {
   "cell_type": "code",
   "execution_count": null,
   "metadata": {},
   "outputs": [],
   "source": [
    "# your code:\n",
    "\n",
    "selected_hill = #"
   ]
  },
  {
   "cell_type": "code",
   "execution_count": null,
   "metadata": {},
   "outputs": [],
   "source": [
    "# Visualization\n",
    "# Need to add x,y labels, titles and grid.\n",
    "# Please add your name on graph titles.\n",
    "\n",
    "# your code\n"
   ]
  },
  {
   "cell_type": "markdown",
   "metadata": {},
   "source": [
    "#### For Graduate students only (CS557)\n",
    "\n",
    "Please add another set of visualizations using the **Prominence** data and explain their significance."
   ]
  },
  {
   "cell_type": "code",
   "execution_count": null,
   "metadata": {},
   "outputs": [],
   "source": []
  }
 ],
 "metadata": {
  "kernelspec": {
   "display_name": "Python [conda env:base] *",
   "language": "python",
   "name": "conda-base-py"
  },
  "language_info": {
   "codemirror_mode": {
    "name": "ipython",
    "version": 3
   },
   "file_extension": ".py",
   "mimetype": "text/x-python",
   "name": "python",
   "nbconvert_exporter": "python",
   "pygments_lexer": "ipython3",
   "version": "3.12.7"
  }
 },
 "nbformat": 4,
 "nbformat_minor": 4
}
