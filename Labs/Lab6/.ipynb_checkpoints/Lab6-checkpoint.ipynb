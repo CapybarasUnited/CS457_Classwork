{
 "cells": [
  {
   "cell_type": "markdown",
   "id": "95b94b46-eab5-4bb9-bd8c-68d7bb1a31e6",
   "metadata": {},
   "source": [
    "Lab 6: MNIST with CNN Model\\\n",
    "Objective: You need to create your own Jupyter Notebook.\\\n",
    "\\\n",
    "The goal of this assignment is to build, train, and evaluate a Convolutional Neural Network (CNN) for handwritten digit recognition using the MNIST dataset. You will also preprocess data, visualize results, and upload your work to GitHub for review.\n",
    "\n",
    "Instructions:\n",
    "1. Download the MNIST dataset using PyTorch's torchvision.datasets module. Hint: from torchvision.datasets import MNIST\\\n",
    "1.1. Save the dataset in a format that can be accessed throughout your notebook."
   ]
  },
  {
   "cell_type": "code",
   "execution_count": null,
   "id": "8480a0f7-c5e5-4681-b5ee-ff6765ba557a",
   "metadata": {},
   "outputs": [],
   "source": []
  },
  {
   "cell_type": "markdown",
   "id": "6d0e0fc5-a994-458d-854e-8bc05d598cff",
   "metadata": {},
   "source": [
    "2. Prepare the Data\\\n",
    "2.1 Introduce the MNIST Dataset\\\n",
    "Write a brief explanation about the MNIST dataset in your Jupyter Notebook.\\\n",
    "Include details such as:\n",
    "The size of the dataset, \n",
    "Number of classes (digits 0-9), \n",
    "Your Image dimensions.\\\n",
    "2.2 Create a Dataset and DataLoader\\\n",
    "Create a PyTorch Dataset to handle the raw MNIST data.\\\n",
    "Use a PyTorch DataLoader to manage batching for your data.\\\n",
    "2.3 Preprocess the Data\\\n",
    "Apply necessary transforms (e.g., normalization, resizing) to preprocess the data.\\\n",
    "Use PyTorch’s torchvision.transforms or other preprocessing methods.\\\n",
    "Clearly explain why the preprocessing steps were necessary.\\\n",
    "2.4 Visualize the Processed Data\\\n",
    "Visualize a sample of the processed data (e.g., show a grid of images).\\\n",
    "Use appropriate titles for the visualizations to include your name."
   ]
  },
  {
   "cell_type": "code",
   "execution_count": null,
   "id": "4a33f6fe-9217-4576-bb49-9628d2a404cb",
   "metadata": {},
   "outputs": [],
   "source": []
  },
  {
   "cell_type": "markdown",
   "id": "33f34782-89be-4906-b37f-3dd8dfa8f87d",
   "metadata": {},
   "source": [
    "3. Build a CNN Model\\\n",
    "3.1 Define the Model Structure\\\n",
    "Design your own CNN model with layers like convolutional layers, pooling layers,\n",
    "and fully connected layers.\n",
    "The model must be implemented using PyTorch.\\\n",
    "3.2 Set Up the Trainer\\\n",
    "Define a training loop that includes:\n",
    "A loss function (e.g., Cross-Entropy Loss).\n",
    "An optimizer (e.g., Adam or SGD).\n",
    "A learning rate scheduler (if applicable).\\\n",
    "3.3 Summarize Your Model\\\n",
    "Use torchsummary or other tools to display a summary of your CNN, showing:\n",
    "Layer names.\n",
    "Output dimensions for each layer.\n",
    "Total number of parameters.\\\n",
    "3.4 Train Your Model\\\n",
    "Train your model for multiple epochs (e.g., 50–100).\n",
    "Ensure that your model learns e[ectively by monitoring loss and accuracy during\n",
    "training."
   ]
  },
  {
   "cell_type": "code",
   "execution_count": null,
   "id": "879bf502-2547-4733-ad9b-6ba4e15c90ef",
   "metadata": {},
   "outputs": [],
   "source": []
  },
  {
   "cell_type": "markdown",
   "id": "3d1ad1ca-d9fc-4875-ab67-eaec75cc2c67",
   "metadata": {},
   "source": [
    "4. Visualize and Evaluation\\\n",
    "Create at least 5 visualizations to evaluate/ Visualize the performance of your\n",
    "model, such as (you can make your own choice):\\\n",
    "Training loss over epochs.\\\n",
    "Validation loss over epochs.\\\n",
    "Visualize predicted results and actual results.\\\n",
    "Validation accuracy over epochs.\\\n",
    "Confusion matrix or misclassified examples.\\\n",
    "Requirement: Add your name to the title of each visualization.\n",
    "Use text cells to explain your visualizations and analyze the quality of your model.\\\n",
    "For example:\\\n",
    "How well does your model perform on the test set?\\\n",
    "Are there patterns in the loss/accuracy curves (e.g., overfitting or\n",
    "underfitting)?\\\n",
    "Which digits are most often misclassified?"
   ]
  },
  {
   "cell_type": "code",
   "execution_count": null,
   "id": "fa276358-2d2a-41d9-8a6b-1e988d57f460",
   "metadata": {},
   "outputs": [],
   "source": []
  },
  {
   "cell_type": "markdown",
   "id": "37090074-5492-435a-bea0-b9108586df8c",
   "metadata": {},
   "source": [
    "5. Save and Upload Your Work\\\n",
    "Save your trained model to a file (e.g., .pt or .pth format).\n",
    "Hint: Use torch.save to save your model weights.\\\n",
    "Upload the following to GitHub:\\\n",
    "Your saved model file.\n",
    "Your Jupyter Notebook with well-commented code and explanations.\\\n",
    "Coding Requirements\\\n",
    "Code Comments: Add necessary comments to explain your code.\\\n",
    "Text Explanations: Use Markdown cells in your notebook to explain each step in\n",
    "detail.\\\n",
    "Code Quality: Ensure your code is clean, modular, and easy to read.Submission:\\\n",
    "A complete Jupyter Notebook that includes:\\\n",
    "Data preparation.\\\n",
    "CNN model creation and training.\\\n",
    "Visualizations with explanations and your name in the titles.\\\n",
    "A saved model file.\\\n",
    "All files uploaded to your GitHub repository.\\\n",
    "Submit your GitHub link to Canvas."
   ]
  },
  {
   "cell_type": "code",
   "execution_count": null,
   "id": "71960a69-bb3e-4480-a9a9-20035c199a98",
   "metadata": {},
   "outputs": [],
   "source": []
  },
  {
   "cell_type": "markdown",
   "id": "16592569-83e9-4428-b6d8-28939605111a",
   "metadata": {},
   "source": [
    "Submission:\\\n",
    "A complete Jupyter Notebook that includes:\\\n",
    "Data preparation.\\\n",
    "CNN model creation and training.\\\n",
    "Visualizations with explanations and your name in the titles.\\\n",
    "A saved model file.\\\n",
    "All files uploaded to your GitHub repository.\\\n",
    "Submit your GitHub link to Canvas."
   ]
  },
  {
   "cell_type": "code",
   "execution_count": null,
   "id": "e2f0525e-c9f4-4110-82c3-8c4a994ba235",
   "metadata": {},
   "outputs": [],
   "source": []
  }
 ],
 "metadata": {
  "kernelspec": {
   "display_name": "Python [conda env:base] *",
   "language": "python",
   "name": "conda-base-py"
  },
  "language_info": {
   "codemirror_mode": {
    "name": "ipython",
    "version": 3
   },
   "file_extension": ".py",
   "mimetype": "text/x-python",
   "name": "python",
   "nbconvert_exporter": "python",
   "pygments_lexer": "ipython3",
   "version": "3.12.3"
  }
 },
 "nbformat": 4,
 "nbformat_minor": 5
}
