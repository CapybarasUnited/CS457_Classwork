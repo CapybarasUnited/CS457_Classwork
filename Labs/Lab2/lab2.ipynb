{
 "cells": [
  {
   "cell_type": "markdown",
   "id": "a4e97256",
   "metadata": {},
   "source": [
    "# **Lab Exercise: Linear and Logistic Regression**"
   ]
  },
  {
   "cell_type": "markdown",
   "id": "5f13e57d-2212-4089-9e8d-0776dfba9eb7",
   "metadata": {},
   "source": [
    "## **Linear Regression Construction** "
   ]
  },
  {
   "cell_type": "markdown",
   "id": "4f702d80",
   "metadata": {},
   "source": [
    "#### **Section 1: Setting Up and Importing Libraries**\n",
    "*Objective:* Load the required `Python libraries`.\n"
   ]
  },
  {
   "cell_type": "code",
   "execution_count": 4,
   "id": "8b5c3769-8e6d-4774-86db-612a37163e71",
   "metadata": {},
   "outputs": [],
   "source": [
    "import numpy as np\n",
    "import pandas as pd\n",
    "import matplotlib.pyplot as plt"
   ]
  },
  {
   "cell_type": "markdown",
   "id": "ce42d797-2458-4e79-9c04-ff6264334aa1",
   "metadata": {},
   "source": [
    "#### **Section 2: Linear Regression Data Preparation**\n",
    "\n",
    "*Objective:* Create a dataset for linear regression.\n",
    "\n",
    "Task: Write the code to:\n",
    "\n",
    "Create a dataset with features and target variables for linear regression.\n",
    "Visualize the data using Matplotlib.\n"
   ]
  },
  {
   "cell_type": "code",
   "execution_count": 23,
   "id": "6eb0752f-ad50-42a9-8a61-ccb8e56408c8",
   "metadata": {},
   "outputs": [
    {
     "data": {
      "image/png": "[encoded data removed]",
      "text/plain": [
       "<Figure size 640x480 with 1 Axes>"
      ]
     },
     "metadata": {},
     "output_type": "display_data"
    }
   ],
   "source": [
    "# Generate synthetic data for linear regression\n",
    "np.random.seed(42)  # For reproducibility\n",
    "X = np.random.randint(1, 100, 20)  # Features (independent variable)\n",
    "y = 3 * X + 7 + np.random.normal(0, 15, 20)  # Target with noise\n",
    "\n",
    "# Visualize the data\n",
    "\n",
    "# You need to use scatter chart to Visualize the input dataset X & y\n",
    "# Your chart need to label the x-axis, y-axis and title\n",
    "# Your chart should use grid\n",
    "\n",
    "# Your code\n",
    "\n",
    "%matplotlib inline\n",
    "plt.xlabel('independent variable')\n",
    "plt.ylabel('dependent variable')\n",
    "plt.scatter(X,y,color='orange',marker='.')\n",
    "plt.title('Eli\\'s Syntheic Data for Linear Regression ')\n",
    "plt.grid(alpha=0.6)\n",
    "plt.show()"
   ]
  },
  {
   "cell_type": "markdown",
   "id": "796b61db-a62b-49b8-9469-759c4d606496",
   "metadata": {},
   "source": [
    "#### **Section 3: Implementing Linear Regression**\n",
    "\n",
    "*Objective:* Practice linear regression construction.\n",
    "\n",
    "Task: Write the code to:\n",
    "\n",
    "Write a Linear Regression function to minimize the cost function and find the optimal parameters.\n",
    "\n",
    "\n",
    "For **Undergraduate students** (CS457): You can **choose** any of the following methods to implement it.\n",
    "1. You can use any scikit-learn library.\n",
    "2. Manually write cost function & gradient descent function to implement it.\n",
    "\n",
    "For **Graduate students** (CS557): You have to implement it by\n",
    "1. Manually write cost function & gradient descent function to implement it.\n"
   ]
  },
  {
   "cell_type": "code",
   "execution_count": 29,
   "id": "569087ba-89de-4a5e-94f2-fba6d1ee4580",
   "metadata": {},
   "outputs": [
    {
     "ename": "ValueError",
     "evalue": "Expected 2D array, got 1D array instead:\narray=[52 93 15 72 61 21 83 87 75 75 88 24  3 22 53  2 88 30 38  2].\nReshape your data either using array.reshape(-1, 1) if your data has a single feature or array.reshape(1, -1) if it contains a single sample.",
     "output_type": "error",
     "traceback": [
      "\u001b[1;31m---------------------------------------------------------------------------\u001b[0m",
      "\u001b[1;31mValueError\u001b[0m                                Traceback (most recent call last)",
      "Cell \u001b[1;32mIn[29], line 12\u001b[0m\n\u001b[0;32m     10\u001b[0m \u001b[38;5;66;03m# Building the Model\u001b[39;00m\n\u001b[0;32m     11\u001b[0m reg \u001b[38;5;241m=\u001b[39m linear_model\u001b[38;5;241m.\u001b[39mLinearRegression()\n\u001b[1;32m---> 12\u001b[0m reg\u001b[38;5;241m.\u001b[39mfit(X_train,y_train)\n\u001b[0;32m     14\u001b[0m \u001b[38;5;66;03m# Review Model parameter \u001b[39;00m\n\u001b[0;32m     15\u001b[0m \u001b[38;5;28mprint\u001b[39m(\u001b[38;5;124m\"\u001b[39m\u001b[38;5;124mLinear Equation: y = \u001b[39m\u001b[38;5;124m\"\u001b[39m, reg\u001b[38;5;241m.\u001b[39mcoef_, \u001b[38;5;124m\"\u001b[39m\u001b[38;5;124m* x +\u001b[39m\u001b[38;5;124m\"\u001b[39m, reg\u001b[38;5;241m.\u001b[39mintercept_)\n",
      "File \u001b[1;32m~\\anaconda3\\Lib\\site-packages\\sklearn\\base.py:1473\u001b[0m, in \u001b[0;36m_fit_context.<locals>.decorator.<locals>.wrapper\u001b[1;34m(estimator, *args, **kwargs)\u001b[0m\n\u001b[0;32m   1466\u001b[0m     estimator\u001b[38;5;241m.\u001b[39m_validate_params()\n\u001b[0;32m   1468\u001b[0m \u001b[38;5;28;01mwith\u001b[39;00m config_context(\n\u001b[0;32m   1469\u001b[0m     skip_parameter_validation\u001b[38;5;241m=\u001b[39m(\n\u001b[0;32m   1470\u001b[0m         prefer_skip_nested_validation \u001b[38;5;129;01mor\u001b[39;00m global_skip_validation\n\u001b[0;32m   1471\u001b[0m     )\n\u001b[0;32m   1472\u001b[0m ):\n\u001b[1;32m-> 1473\u001b[0m     \u001b[38;5;28;01mreturn\u001b[39;00m fit_method(estimator, \u001b[38;5;241m*\u001b[39margs, \u001b[38;5;241m*\u001b[39m\u001b[38;5;241m*\u001b[39mkwargs)\n",
      "File \u001b[1;32m~\\anaconda3\\Lib\\site-packages\\sklearn\\linear_model\\_base.py:609\u001b[0m, in \u001b[0;36mLinearRegression.fit\u001b[1;34m(self, X, y, sample_weight)\u001b[0m\n\u001b[0;32m    605\u001b[0m n_jobs_ \u001b[38;5;241m=\u001b[39m \u001b[38;5;28mself\u001b[39m\u001b[38;5;241m.\u001b[39mn_jobs\n\u001b[0;32m    607\u001b[0m accept_sparse \u001b[38;5;241m=\u001b[39m \u001b[38;5;28;01mFalse\u001b[39;00m \u001b[38;5;28;01mif\u001b[39;00m \u001b[38;5;28mself\u001b[39m\u001b[38;5;241m.\u001b[39mpositive \u001b[38;5;28;01melse\u001b[39;00m [\u001b[38;5;124m\"\u001b[39m\u001b[38;5;124mcsr\u001b[39m\u001b[38;5;124m\"\u001b[39m, \u001b[38;5;124m\"\u001b[39m\u001b[38;5;124mcsc\u001b[39m\u001b[38;5;124m\"\u001b[39m, \u001b[38;5;124m\"\u001b[39m\u001b[38;5;124mcoo\u001b[39m\u001b[38;5;124m\"\u001b[39m]\n\u001b[1;32m--> 609\u001b[0m X, y \u001b[38;5;241m=\u001b[39m \u001b[38;5;28mself\u001b[39m\u001b[38;5;241m.\u001b[39m_validate_data(\n\u001b[0;32m    610\u001b[0m     X,\n\u001b[0;32m    611\u001b[0m     y,\n\u001b[0;32m    612\u001b[0m     accept_sparse\u001b[38;5;241m=\u001b[39maccept_sparse,\n\u001b[0;32m    613\u001b[0m     y_numeric\u001b[38;5;241m=\u001b[39m\u001b[38;5;28;01mTrue\u001b[39;00m,\n\u001b[0;32m    614\u001b[0m     multi_output\u001b[38;5;241m=\u001b[39m\u001b[38;5;28;01mTrue\u001b[39;00m,\n\u001b[0;32m    615\u001b[0m     force_writeable\u001b[38;5;241m=\u001b[39m\u001b[38;5;28;01mTrue\u001b[39;00m,\n\u001b[0;32m    616\u001b[0m )\n\u001b[0;32m    618\u001b[0m has_sw \u001b[38;5;241m=\u001b[39m sample_weight \u001b[38;5;129;01mis\u001b[39;00m \u001b[38;5;129;01mnot\u001b[39;00m \u001b[38;5;28;01mNone\u001b[39;00m\n\u001b[0;32m    619\u001b[0m \u001b[38;5;28;01mif\u001b[39;00m has_sw:\n",
      "File \u001b[1;32m~\\anaconda3\\Lib\\site-packages\\sklearn\\base.py:650\u001b[0m, in \u001b[0;36mBaseEstimator._validate_data\u001b[1;34m(self, X, y, reset, validate_separately, cast_to_ndarray, **check_params)\u001b[0m\n\u001b[0;32m    648\u001b[0m         y \u001b[38;5;241m=\u001b[39m check_array(y, input_name\u001b[38;5;241m=\u001b[39m\u001b[38;5;124m\"\u001b[39m\u001b[38;5;124my\u001b[39m\u001b[38;5;124m\"\u001b[39m, \u001b[38;5;241m*\u001b[39m\u001b[38;5;241m*\u001b[39mcheck_y_params)\n\u001b[0;32m    649\u001b[0m     \u001b[38;5;28;01melse\u001b[39;00m:\n\u001b[1;32m--> 650\u001b[0m         X, y \u001b[38;5;241m=\u001b[39m check_X_y(X, y, \u001b[38;5;241m*\u001b[39m\u001b[38;5;241m*\u001b[39mcheck_params)\n\u001b[0;32m    651\u001b[0m     out \u001b[38;5;241m=\u001b[39m X, y\n\u001b[0;32m    653\u001b[0m \u001b[38;5;28;01mif\u001b[39;00m \u001b[38;5;129;01mnot\u001b[39;00m no_val_X \u001b[38;5;129;01mand\u001b[39;00m check_params\u001b[38;5;241m.\u001b[39mget(\u001b[38;5;124m\"\u001b[39m\u001b[38;5;124mensure_2d\u001b[39m\u001b[38;5;124m\"\u001b[39m, \u001b[38;5;28;01mTrue\u001b[39;00m):\n",
      "File \u001b[1;32m~\\anaconda3\\Lib\\site-packages\\sklearn\\utils\\validation.py:1301\u001b[0m, in \u001b[0;36mcheck_X_y\u001b[1;34m(X, y, accept_sparse, accept_large_sparse, dtype, order, copy, force_writeable, force_all_finite, ensure_2d, allow_nd, multi_output, ensure_min_samples, ensure_min_features, y_numeric, estimator)\u001b[0m\n\u001b[0;32m   1296\u001b[0m         estimator_name \u001b[38;5;241m=\u001b[39m _check_estimator_name(estimator)\n\u001b[0;32m   1297\u001b[0m     \u001b[38;5;28;01mraise\u001b[39;00m \u001b[38;5;167;01mValueError\u001b[39;00m(\n\u001b[0;32m   1298\u001b[0m         \u001b[38;5;124mf\u001b[39m\u001b[38;5;124m\"\u001b[39m\u001b[38;5;132;01m{\u001b[39;00mestimator_name\u001b[38;5;132;01m}\u001b[39;00m\u001b[38;5;124m requires y to be passed, but the target y is None\u001b[39m\u001b[38;5;124m\"\u001b[39m\n\u001b[0;32m   1299\u001b[0m     )\n\u001b[1;32m-> 1301\u001b[0m X \u001b[38;5;241m=\u001b[39m check_array(\n\u001b[0;32m   1302\u001b[0m     X,\n\u001b[0;32m   1303\u001b[0m     accept_sparse\u001b[38;5;241m=\u001b[39maccept_sparse,\n\u001b[0;32m   1304\u001b[0m     accept_large_sparse\u001b[38;5;241m=\u001b[39maccept_large_sparse,\n\u001b[0;32m   1305\u001b[0m     dtype\u001b[38;5;241m=\u001b[39mdtype,\n\u001b[0;32m   1306\u001b[0m     order\u001b[38;5;241m=\u001b[39morder,\n\u001b[0;32m   1307\u001b[0m     copy\u001b[38;5;241m=\u001b[39mcopy,\n\u001b[0;32m   1308\u001b[0m     force_writeable\u001b[38;5;241m=\u001b[39mforce_writeable,\n\u001b[0;32m   1309\u001b[0m     force_all_finite\u001b[38;5;241m=\u001b[39mforce_all_finite,\n\u001b[0;32m   1310\u001b[0m     ensure_2d\u001b[38;5;241m=\u001b[39mensure_2d,\n\u001b[0;32m   1311\u001b[0m     allow_nd\u001b[38;5;241m=\u001b[39mallow_nd,\n\u001b[0;32m   1312\u001b[0m     ensure_min_samples\u001b[38;5;241m=\u001b[39mensure_min_samples,\n\u001b[0;32m   1313\u001b[0m     ensure_min_features\u001b[38;5;241m=\u001b[39mensure_min_features,\n\u001b[0;32m   1314\u001b[0m     estimator\u001b[38;5;241m=\u001b[39mestimator,\n\u001b[0;32m   1315\u001b[0m     input_name\u001b[38;5;241m=\u001b[39m\u001b[38;5;124m\"\u001b[39m\u001b[38;5;124mX\u001b[39m\u001b[38;5;124m\"\u001b[39m,\n\u001b[0;32m   1316\u001b[0m )\n\u001b[0;32m   1318\u001b[0m y \u001b[38;5;241m=\u001b[39m _check_y(y, multi_output\u001b[38;5;241m=\u001b[39mmulti_output, y_numeric\u001b[38;5;241m=\u001b[39my_numeric, estimator\u001b[38;5;241m=\u001b[39mestimator)\n\u001b[0;32m   1320\u001b[0m check_consistent_length(X, y)\n",
      "File \u001b[1;32m~\\anaconda3\\Lib\\site-packages\\sklearn\\utils\\validation.py:1050\u001b[0m, in \u001b[0;36mcheck_array\u001b[1;34m(array, accept_sparse, accept_large_sparse, dtype, order, copy, force_writeable, force_all_finite, ensure_2d, allow_nd, ensure_min_samples, ensure_min_features, estimator, input_name)\u001b[0m\n\u001b[0;32m   1043\u001b[0m         \u001b[38;5;28;01melse\u001b[39;00m:\n\u001b[0;32m   1044\u001b[0m             msg \u001b[38;5;241m=\u001b[39m (\n\u001b[0;32m   1045\u001b[0m                 \u001b[38;5;124mf\u001b[39m\u001b[38;5;124m\"\u001b[39m\u001b[38;5;124mExpected 2D array, got 1D array instead:\u001b[39m\u001b[38;5;130;01m\\n\u001b[39;00m\u001b[38;5;124marray=\u001b[39m\u001b[38;5;132;01m{\u001b[39;00marray\u001b[38;5;132;01m}\u001b[39;00m\u001b[38;5;124m.\u001b[39m\u001b[38;5;130;01m\\n\u001b[39;00m\u001b[38;5;124m\"\u001b[39m\n\u001b[0;32m   1046\u001b[0m                 \u001b[38;5;124m\"\u001b[39m\u001b[38;5;124mReshape your data either using array.reshape(-1, 1) if \u001b[39m\u001b[38;5;124m\"\u001b[39m\n\u001b[0;32m   1047\u001b[0m                 \u001b[38;5;124m\"\u001b[39m\u001b[38;5;124myour data has a single feature or array.reshape(1, -1) \u001b[39m\u001b[38;5;124m\"\u001b[39m\n\u001b[0;32m   1048\u001b[0m                 \u001b[38;5;124m\"\u001b[39m\u001b[38;5;124mif it contains a single sample.\u001b[39m\u001b[38;5;124m\"\u001b[39m\n\u001b[0;32m   1049\u001b[0m             )\n\u001b[1;32m-> 1050\u001b[0m         \u001b[38;5;28;01mraise\u001b[39;00m \u001b[38;5;167;01mValueError\u001b[39;00m(msg)\n\u001b[0;32m   1052\u001b[0m \u001b[38;5;28;01mif\u001b[39;00m dtype_numeric \u001b[38;5;129;01mand\u001b[39;00m \u001b[38;5;28mhasattr\u001b[39m(array\u001b[38;5;241m.\u001b[39mdtype, \u001b[38;5;124m\"\u001b[39m\u001b[38;5;124mkind\u001b[39m\u001b[38;5;124m\"\u001b[39m) \u001b[38;5;129;01mand\u001b[39;00m array\u001b[38;5;241m.\u001b[39mdtype\u001b[38;5;241m.\u001b[39mkind \u001b[38;5;129;01min\u001b[39;00m \u001b[38;5;124m\"\u001b[39m\u001b[38;5;124mUSV\u001b[39m\u001b[38;5;124m\"\u001b[39m:\n\u001b[0;32m   1053\u001b[0m     \u001b[38;5;28;01mraise\u001b[39;00m \u001b[38;5;167;01mValueError\u001b[39;00m(\n\u001b[0;32m   1054\u001b[0m         \u001b[38;5;124m\"\u001b[39m\u001b[38;5;124mdtype=\u001b[39m\u001b[38;5;124m'\u001b[39m\u001b[38;5;124mnumeric\u001b[39m\u001b[38;5;124m'\u001b[39m\u001b[38;5;124m is not compatible with arrays of bytes/strings.\u001b[39m\u001b[38;5;124m\"\u001b[39m\n\u001b[0;32m   1055\u001b[0m         \u001b[38;5;124m\"\u001b[39m\u001b[38;5;124mConvert your data to numeric values explicitly instead.\u001b[39m\u001b[38;5;124m\"\u001b[39m\n\u001b[0;32m   1056\u001b[0m     )\n",
      "\u001b[1;31mValueError\u001b[0m: Expected 2D array, got 1D array instead:\narray=[52 93 15 72 61 21 83 87 75 75 88 24  3 22 53  2 88 30 38  2].\nReshape your data either using array.reshape(-1, 1) if your data has a single feature or array.reshape(1, -1) if it contains a single sample."
     ]
    }
   ],
   "source": [
    "# Your code for linear regression model\n",
    "\n",
    "# Sklearn model\n",
    "from sklearn import linear_model\n",
    "\n",
    "# Prepare data\n",
    "X_train = X\n",
    "y_train = y\n",
    "\n",
    "# Building the Model\n",
    "reg = linear_model.LinearRegression()\n",
    "reg.fit(X_train,y_train)\n",
    "\n",
    "# Review Model parameter \n",
    "print(\"Linear Equation: y = \", reg.coef_, \"* x +\", reg.intercept_)\n",
    "\n"
   ]
  },
  {
   "cell_type": "code",
   "execution_count": null,
   "id": "0a60ce07-9050-4863-9a88-f538137313fd",
   "metadata": {},
   "outputs": [],
   "source": [
    "# Your code for linear regression model\n",
    "\n",
    "# Manually write cost function & gradient descent \n",
    "\n",
    "# Reshape X to include a bias term (column of ones for the intercept) by np.column_stack\n",
    "# your code\n",
    "\n",
    "# Define the cost function for linear regression\n",
    "def compute_cost(X, y, theta):\n",
    "    \"\"\"\n",
    "    Compute the cost function for linear regression.\n",
    "    \"\"\"\n",
    "    # your code \n",
    "\n",
    "    return cost\n",
    "    \n",
    "   \n",
    "\n",
    "# Define the gradient descent function\n",
    "def gradient_descent(X, y, alpha, iterations):\n",
    "    \"\"\"\n",
    "    Perform gradient descent to minimize the cost function.\n",
    "    \"\"\"\n",
    "    \n",
    "    theta = np.zeros(2)  # Initialize theta (matching number of features)\n",
    "    m = len(y)  # Number of training examples\n",
    "\n",
    "    \n",
    "\n",
    "    # Iterate to update theta with iterations\n",
    "    # your code \n",
    "    \n",
    "\n",
    "    return theta\n",
    "    \n",
    "\n",
    "\n",
    "# Number of iterations for gradient descent\n",
    "iterations = 5000\n",
    "\n",
    "# Learning rate for gradient descent\n",
    "alpha = 0.0001\n",
    "\n",
    "# Call the gradient descent function to compute optimized parameters\n",
    "theta = # your code\n",
    "\n",
    "# Compute the cost using the optimized parameters\n",
    "cost = # your code\n",
    "\n",
    "# Print the results\n",
    "print(\"Optimized theta (parameters):\", theta)  # Optimized values for theta (intercept and slope)\n",
    "print(\"Final cost:\", cost)  # Final cost value to evaluate the fit"
   ]
  },
  {
   "cell_type": "markdown",
   "id": "7e9c2e68-0803-43b1-ac8c-8ca765d61b85",
   "metadata": {},
   "source": [
    "### **Section 4: Visualizing the Linear Regression Line**\n",
    "\n",
    "*Objective:* Plot the regression line with the original data.\n",
    "\n",
    "Task: Plot the data points and the fitted regression line."
   ]
  },
  {
   "cell_type": "code",
   "execution_count": null,
   "id": "c1af75b3-958b-471a-90b2-1a9c6d40841c",
   "metadata": {},
   "outputs": [],
   "source": [
    "# Compare predictions with actual values\n",
    "y_pred = np.dot(X, theta)\n",
    "\n",
    "\n",
    "# Plot the data and regression line\n",
    "# You need to use scatter chart to Visualize the input dataset X & y\n",
    "# Your chart should plot the regression line using theta_optimal predictions \n",
    "# Your chart need to label the x-axis, y-axis and title\n",
    "# Your chart should use grid\n",
    "# Please add your name to the graph title\n",
    "\n",
    "# Your code: "
   ]
  },
  {
   "cell_type": "markdown",
   "id": "d0db4e3a-42a2-4cdc-a4f0-d702babd213a",
   "metadata": {},
   "source": [
    "## **Logistic Regression Construction** "
   ]
  },
  {
   "cell_type": "markdown",
   "id": "52bc9e31-8eea-4939-9f9b-99238a5afbb2",
   "metadata": {},
   "source": [
    "#### **Section 1: Logistic Regression Data Preparation**\n",
    "\n",
    "*Objective:* Prepare data for logistic regression.\n",
    "\n",
    "Task: Write the code to:\n",
    "\n",
    "Create synthetic data for binary classification.\n",
    "Visualize the data."
   ]
  },
  {
   "cell_type": "markdown",
   "id": "5576a731-78cc-45a5-aaba-0a327a833314",
   "metadata": {},
   "source": [
    "#### Dataset Description\n",
    "\n",
    "Study_hour_Data.csv - The dataset simulates a scenario where students' chances of passing a course are influenced by their study habits and class participation. It contains 200 observations and the following three columns:\n",
    "\n",
    "\n",
    "**Hours of Study:**\n",
    "Integer values representing the number of hours a student spends studying in a week.\n",
    "Range: 0 to 9.\n",
    "\n",
    "**Class Participation:**\n",
    "Float values between 0 and 1, representing the level of engagement in class activities.\n",
    "Higher values indicate greater participation.\n",
    "\n",
    "**Passed:**\n",
    "Binary target variable indicating whether the student passed the course:\n",
    "1: Passed.\n",
    "0: Did not pass.\n",
    "Determined based on a weighted combination of Hours of Study and Class Participation (with added noise), with a threshold value of 5."
   ]
  },
  {
   "cell_type": "code",
   "execution_count": null,
   "id": "ddb97210-5bc9-41b9-ae6c-52c1dd6d517c",
   "metadata": {},
   "outputs": [],
   "source": [
    "import pandas as pd\n",
    "#read data from Pandas \n",
    "\n",
    "# Load dataset\n",
    "# please use Study_hour_Data.csv as your target data\n",
    "data = # your code\n",
    "\n",
    "# Display basic information\n",
    "print(data.info())\n",
    "print(data.describe())\n",
    "\n",
    "#Generate your training data X & y\n",
    "X =  #use column Hours of Study\n",
    "y =  #use columns Passed"
   ]
  },
  {
   "cell_type": "markdown",
   "id": "ee3884a0-0234-49c0-b9c2-039d80f3c444",
   "metadata": {},
   "source": [
    "#### **Section 2: Visualize the data**"
   ]
  },
  {
   "cell_type": "code",
   "execution_count": null,
   "id": "7c8183a3-e11b-46c0-9ddf-bdee3cc0bce8",
   "metadata": {},
   "outputs": [],
   "source": [
    "# Visualize the data\n",
    "\n",
    "# You need to use scatter chart to Visualize the input dataset X & y\n",
    "# Your chart need to label the x-axis, y-axis and title\n",
    "# Your chart should use grid\n",
    "# Please add your name to the graph title\n",
    "\n",
    "# Your code: \n",
    "\n"
   ]
  },
  {
   "cell_type": "markdown",
   "id": "5317d5a8-c76a-46a3-ab2a-a9ce54b1e51f",
   "metadata": {},
   "source": [
    "#### **Section 3: Implementing Logistic Regression**\n",
    "\n",
    "*Objective:* Implement logistic regression.\n",
    "\n",
    "For **Undergraduate students** (CS457): You can **choose** any of the following methods to implement it.\n",
    "1. You can use any scikit-learn library.\n",
    "2. Manually write cost function & gradient descent function to implement it. \n",
    "\n",
    "For **Graduate students** (CS557): You have to implement it by\n",
    "1. Manually write cost function & gradient descent function to implement it.\n",
    "\n",
    "\n",
    "Then, use the scipy.optimize library to fit the logistic regression model."
   ]
  },
  {
   "cell_type": "code",
   "execution_count": null,
   "id": "033c773f-d7e2-4a2a-90b2-4ccbb583df56",
   "metadata": {},
   "outputs": [],
   "source": [
    "# Your code for logistic regression model\n",
    "\n",
    "# Sklearn model\n",
    "import \n",
    "\n",
    "# Prepare data\n",
    "\n",
    "# Building the Model\n",
    "\n",
    "# Review Model parameter "
   ]
  },
  {
   "cell_type": "code",
   "execution_count": null,
   "id": "4623ce3e-1131-4f91-b9f5-33e6258b1bd9",
   "metadata": {},
   "outputs": [],
   "source": [
    "# Your logistic regression model\n",
    "\n",
    "# Define the sigmoid function\n",
    "def sigmoid(z):\n",
    "    # pass\n",
    "    \n",
    "     \n",
    "\n",
    "# Define the cost function for logistic regression\n",
    "def cost_function(theta, X, y):\n",
    "    # pass \n",
    "   \n",
    "\n",
    "# Define the gradient function\n",
    "def gradient(theta, X, y):\n",
    "    #pass\n",
    "    "
   ]
  },
  {
   "cell_type": "code",
   "execution_count": null,
   "id": "3e835e8c-8d87-4630-95ac-2fd002683d82",
   "metadata": {},
   "outputs": [],
   "source": [
    "# Train your model\n",
    "    \n",
    "# Add a bias term (intercept) to X \n",
    "    \n",
    "# Initialize theta (parameters) to zeros\n",
    "\n",
    "\n",
    "# Minimize the cost function using scipy.optimize\n",
    "\n",
    "\n",
    "# Print the optimized parameters (theta)\n",
    "print(\"Optimized theta (parameters):\", optimal_theta)"
   ]
  },
  {
   "cell_type": "markdown",
   "id": "3c5beb99-6509-4a52-9f6e-f83ff2773ce3",
   "metadata": {},
   "source": [
    "#### **Section 4: Evaluate the model**\n",
    "\n",
    "*Objective:* Evaluate the model with the fitted data.\n",
    "\n",
    "Task: build the Predict function, and Calculate accuracy."
   ]
  },
  {
   "cell_type": "code",
   "execution_count": null,
   "id": "a69d76b1-c489-475b-bedb-baa20ecad40c",
   "metadata": {},
   "outputs": [],
   "source": [
    "# Predict function\n",
    "def predict(X, theta):\n",
    "    # your code\n",
    "\n",
    "# Make predictions\n",
    "predictions = # your code"
   ]
  },
  {
   "cell_type": "code",
   "execution_count": null,
   "id": "336aa148-2d43-47d3-83e7-e8bd260f0f76",
   "metadata": {},
   "outputs": [],
   "source": [
    "# Calculate accuracy\n",
    "accuracy = # your code \n",
    "print(\"Accuracy:\", accuracy, \"%\")"
   ]
  },
  {
   "cell_type": "markdown",
   "id": "d45ba386-8248-41f5-9112-0ba46875eda5",
   "metadata": {},
   "source": [
    "### **Section 5: Visualizing Logistic Regression Fit**\n",
    "\n",
    "*Objective:* Plot the logistic regression fit with the original data.\n",
    "\n",
    "Task: Plot the sigmoid curve over the range of input features."
   ]
  },
  {
   "cell_type": "code",
   "execution_count": null,
   "id": "7f29587c-cd62-4ea6-9226-ea904016778b",
   "metadata": {},
   "outputs": [],
   "source": [
    "# Plot the data and regression line\n",
    "# You need to use scatter chart to Visualize the input dataset X & y\n",
    "# Your chart should plot the regression line using theta_optimal predictions \n",
    "# Your chart need to label the x-axis, y-axis and title\n",
    "# Your chart should use grid\n",
    "# Please add your name to the graph title\n"
   ]
  },
  {
   "cell_type": "code",
   "execution_count": null,
   "id": "27191b69-a42c-40df-ab8e-a3ed86abc7a5",
   "metadata": {},
   "outputs": [],
   "source": []
  }
 ],
 "metadata": {
  "kernelspec": {
   "display_name": "Python [conda env:base] *",
   "language": "python",
   "name": "conda-base-py"
  },
  "language_info": {
   "codemirror_mode": {
    "name": "ipython",
    "version": 3
   },
   "file_extension": ".py",
   "mimetype": "text/x-python",
   "name": "python",
   "nbconvert_exporter": "python",
   "pygments_lexer": "ipython3",
   "version": "3.12.7"
  }
 },
 "nbformat": 4,
 "nbformat_minor": 5
}
